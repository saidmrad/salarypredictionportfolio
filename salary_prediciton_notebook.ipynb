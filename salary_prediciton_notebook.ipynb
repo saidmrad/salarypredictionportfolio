{
 "cells": [
  {
   "cell_type": "markdown",
   "metadata": {},
   "source": [
    "# Salary Predictions Based on Job Descriptions"
   ]
  },
  {
   "cell_type": "markdown",
   "metadata": {},
   "source": [
    "# Part 1 - DEFINE"
   ]
  },
  {
   "cell_type": "markdown",
   "metadata": {},
   "source": [
    "### ---- 1 Define the problem ----"
   ]
  },
  {
   "cell_type": "markdown",
   "metadata": {},
   "source": [
    "Data has been gathered from different types of job listings. We have 3 different databases: \n",
    "- train_features, where each row represents metadata for an individual job posting\n",
    "- train_salaries, where the job ID matches the one in train_features and assigns it a salary\n",
    "- test_features, similar to train_features, we are going to use it to test our model\n",
    "\n",
    "The goal of this project is to use all the data we have to most accuretely predict the salary for the job descriptions in the test_features as well as generally predict salary for all types of job descriptions in the real world."
   ]
  },
  {
   "cell_type": "code",
   "execution_count": 766,
   "metadata": {},
   "outputs": [],
   "source": [
    "__author__ = \"Said Mrad\"\n",
    "__email__ = \"saidmrad98@gmail.com\""
   ]
  },
  {
   "cell_type": "code",
   "execution_count": 767,
   "metadata": {},
   "outputs": [],
   "source": [
    "#import libraries\n",
    "import numpy as np\n",
    "import pandas as pd\n",
    "import sklearn as sk\n",
    "import matplotlib.pyplot as plt\n",
    "import seaborn as sns\n",
    "from scipy import stats\n",
    "from sklearn.model_selection import KFold, cross_val_score, train_test_split, GridSearchCV, RandomizedSearchCV\n",
    "from sklearn.linear_model import LinearRegression, SGDRegressor\n",
    "from sklearn.tree import DecisionTreeRegressor\n",
    "from sklearn.ensemble import RandomForestRegressor, GradientBoostingRegressor\n",
    "from sklearn.utils import shuffle\n",
    "from sklearn.metrics import mean_squared_error\n",
    "from sklearn.linear_model import LinearRegression\n",
    "from sklearn.preprocessing import LabelEncoder\n",
    "from sklearn.pipeline import make_pipeline\n",
    "from sklearn.decomposition import PCA\n",
    "from sklearn.preprocessing import StandardScaler"
   ]
  },
  {
   "cell_type": "code",
   "execution_count": 768,
   "metadata": {},
   "outputs": [],
   "source": [
    "import pandas.util.testing as tm\n",
    "import xgboost as xgb"
   ]
  },
  {
   "cell_type": "markdown",
   "metadata": {},
   "source": [
    "## Part 2 - DISCOVER"
   ]
  },
  {
   "cell_type": "markdown",
   "metadata": {},
   "source": [
    "### ---- 2 Load the data ----"
   ]
  },
  {
   "cell_type": "code",
   "execution_count": 769,
   "metadata": {},
   "outputs": [],
   "source": [
    "#load the data into a Pandas dataframe\n",
    "filepath = 'data/train_features.csv'\n",
    "filepath1 = 'data/train_salaries.csv'\n",
    "filepath2 = 'data/test_features.csv'\n",
    "df_raw_train_feature = pd.read_csv(filepath)\n",
    "df_raw_train_salaries = pd.read_csv(filepath1)\n",
    "df_raw_test_feature = pd.read_csv(filepath2)"
   ]
  },
  {
   "cell_type": "markdown",
   "metadata": {},
   "source": [
    "#### Examine Data"
   ]
  },
  {
   "cell_type": "markdown",
   "metadata": {},
   "source": [
    "Examine the first 3 rows of each dataset to get a genreal overview of the training features provided. "
   ]
  },
  {
   "cell_type": "code",
   "execution_count": 770,
   "metadata": {},
   "outputs": [
    {
     "data": {
      "text/html": [
       "<div>\n",
       "<style scoped>\n",
       "    .dataframe tbody tr th:only-of-type {\n",
       "        vertical-align: middle;\n",
       "    }\n",
       "\n",
       "    .dataframe tbody tr th {\n",
       "        vertical-align: top;\n",
       "    }\n",
       "\n",
       "    .dataframe thead th {\n",
       "        text-align: right;\n",
       "    }\n",
       "</style>\n",
       "<table border=\"1\" class=\"dataframe\">\n",
       "  <thead>\n",
       "    <tr style=\"text-align: right;\">\n",
       "      <th></th>\n",
       "      <th>jobId</th>\n",
       "      <th>companyId</th>\n",
       "      <th>jobType</th>\n",
       "      <th>degree</th>\n",
       "      <th>major</th>\n",
       "      <th>industry</th>\n",
       "      <th>yearsExperience</th>\n",
       "      <th>milesFromMetropolis</th>\n",
       "    </tr>\n",
       "  </thead>\n",
       "  <tbody>\n",
       "    <tr>\n",
       "      <th>0</th>\n",
       "      <td>JOB1362684407687</td>\n",
       "      <td>COMP37</td>\n",
       "      <td>CFO</td>\n",
       "      <td>MASTERS</td>\n",
       "      <td>MATH</td>\n",
       "      <td>HEALTH</td>\n",
       "      <td>10</td>\n",
       "      <td>83</td>\n",
       "    </tr>\n",
       "    <tr>\n",
       "      <th>1</th>\n",
       "      <td>JOB1362684407688</td>\n",
       "      <td>COMP19</td>\n",
       "      <td>CEO</td>\n",
       "      <td>HIGH_SCHOOL</td>\n",
       "      <td>NONE</td>\n",
       "      <td>WEB</td>\n",
       "      <td>3</td>\n",
       "      <td>73</td>\n",
       "    </tr>\n",
       "    <tr>\n",
       "      <th>2</th>\n",
       "      <td>JOB1362684407689</td>\n",
       "      <td>COMP52</td>\n",
       "      <td>VICE_PRESIDENT</td>\n",
       "      <td>DOCTORAL</td>\n",
       "      <td>PHYSICS</td>\n",
       "      <td>HEALTH</td>\n",
       "      <td>10</td>\n",
       "      <td>38</td>\n",
       "    </tr>\n",
       "  </tbody>\n",
       "</table>\n",
       "</div>"
      ],
      "text/plain": [
       "              jobId companyId         jobType       degree    major industry  \\\n",
       "0  JOB1362684407687    COMP37             CFO      MASTERS     MATH   HEALTH   \n",
       "1  JOB1362684407688    COMP19             CEO  HIGH_SCHOOL     NONE      WEB   \n",
       "2  JOB1362684407689    COMP52  VICE_PRESIDENT     DOCTORAL  PHYSICS   HEALTH   \n",
       "\n",
       "   yearsExperience  milesFromMetropolis  \n",
       "0               10                   83  \n",
       "1                3                   73  \n",
       "2               10                   38  "
      ]
     },
     "execution_count": 770,
     "metadata": {},
     "output_type": "execute_result"
    }
   ],
   "source": [
    "df_raw_train_feature.head(3)"
   ]
  },
  {
   "cell_type": "markdown",
   "metadata": {},
   "source": [
    "For each job posting, we also get the position ID, the job type, the minimum degree required (can be NONE), the major required, the industry, years of experience and miles From Metropolis.\n",
    "We can already observe that job descriptions that require no degree or a high school degree for the degree field will not require a specific major which makes sense.\n",
    "\n",
    "To observe salary we theorize that all of these features would be able to influence that variable with probably more emphasis on some specific ones like years of experience or job type."
   ]
  },
  {
   "cell_type": "code",
   "execution_count": 771,
   "metadata": {},
   "outputs": [
    {
     "data": {
      "text/html": [
       "<div>\n",
       "<style scoped>\n",
       "    .dataframe tbody tr th:only-of-type {\n",
       "        vertical-align: middle;\n",
       "    }\n",
       "\n",
       "    .dataframe tbody tr th {\n",
       "        vertical-align: top;\n",
       "    }\n",
       "\n",
       "    .dataframe thead th {\n",
       "        text-align: right;\n",
       "    }\n",
       "</style>\n",
       "<table border=\"1\" class=\"dataframe\">\n",
       "  <thead>\n",
       "    <tr style=\"text-align: right;\">\n",
       "      <th></th>\n",
       "      <th>jobId</th>\n",
       "      <th>salary</th>\n",
       "    </tr>\n",
       "  </thead>\n",
       "  <tbody>\n",
       "    <tr>\n",
       "      <th>0</th>\n",
       "      <td>JOB1362684407687</td>\n",
       "      <td>130</td>\n",
       "    </tr>\n",
       "    <tr>\n",
       "      <th>1</th>\n",
       "      <td>JOB1362684407688</td>\n",
       "      <td>101</td>\n",
       "    </tr>\n",
       "    <tr>\n",
       "      <th>2</th>\n",
       "      <td>JOB1362684407689</td>\n",
       "      <td>137</td>\n",
       "    </tr>\n",
       "  </tbody>\n",
       "</table>\n",
       "</div>"
      ],
      "text/plain": [
       "              jobId  salary\n",
       "0  JOB1362684407687     130\n",
       "1  JOB1362684407688     101\n",
       "2  JOB1362684407689     137"
      ]
     },
     "execution_count": 771,
     "metadata": {},
     "output_type": "execute_result"
    }
   ],
   "source": [
    "df_raw_train_salaries.head(3)"
   ]
  },
  {
   "cell_type": "markdown",
   "metadata": {},
   "source": [
    "This is the same Job ID as the train features dataset and assigns a salary to it, this means that it would be very easy to merge both tables."
   ]
  },
  {
   "cell_type": "code",
   "execution_count": 772,
   "metadata": {},
   "outputs": [
    {
     "data": {
      "text/html": [
       "<div>\n",
       "<style scoped>\n",
       "    .dataframe tbody tr th:only-of-type {\n",
       "        vertical-align: middle;\n",
       "    }\n",
       "\n",
       "    .dataframe tbody tr th {\n",
       "        vertical-align: top;\n",
       "    }\n",
       "\n",
       "    .dataframe thead th {\n",
       "        text-align: right;\n",
       "    }\n",
       "</style>\n",
       "<table border=\"1\" class=\"dataframe\">\n",
       "  <thead>\n",
       "    <tr style=\"text-align: right;\">\n",
       "      <th></th>\n",
       "      <th>jobId</th>\n",
       "      <th>companyId</th>\n",
       "      <th>jobType</th>\n",
       "      <th>degree</th>\n",
       "      <th>major</th>\n",
       "      <th>industry</th>\n",
       "      <th>yearsExperience</th>\n",
       "      <th>milesFromMetropolis</th>\n",
       "    </tr>\n",
       "  </thead>\n",
       "  <tbody>\n",
       "    <tr>\n",
       "      <th>0</th>\n",
       "      <td>JOB1362685407687</td>\n",
       "      <td>COMP33</td>\n",
       "      <td>MANAGER</td>\n",
       "      <td>HIGH_SCHOOL</td>\n",
       "      <td>NONE</td>\n",
       "      <td>HEALTH</td>\n",
       "      <td>22</td>\n",
       "      <td>73</td>\n",
       "    </tr>\n",
       "    <tr>\n",
       "      <th>1</th>\n",
       "      <td>JOB1362685407688</td>\n",
       "      <td>COMP13</td>\n",
       "      <td>JUNIOR</td>\n",
       "      <td>NONE</td>\n",
       "      <td>NONE</td>\n",
       "      <td>AUTO</td>\n",
       "      <td>20</td>\n",
       "      <td>47</td>\n",
       "    </tr>\n",
       "    <tr>\n",
       "      <th>2</th>\n",
       "      <td>JOB1362685407689</td>\n",
       "      <td>COMP10</td>\n",
       "      <td>CTO</td>\n",
       "      <td>MASTERS</td>\n",
       "      <td>BIOLOGY</td>\n",
       "      <td>HEALTH</td>\n",
       "      <td>17</td>\n",
       "      <td>9</td>\n",
       "    </tr>\n",
       "  </tbody>\n",
       "</table>\n",
       "</div>"
      ],
      "text/plain": [
       "              jobId companyId  jobType       degree    major industry  \\\n",
       "0  JOB1362685407687    COMP33  MANAGER  HIGH_SCHOOL     NONE   HEALTH   \n",
       "1  JOB1362685407688    COMP13   JUNIOR         NONE     NONE     AUTO   \n",
       "2  JOB1362685407689    COMP10      CTO      MASTERS  BIOLOGY   HEALTH   \n",
       "\n",
       "   yearsExperience  milesFromMetropolis  \n",
       "0               22                   73  \n",
       "1               20                   47  \n",
       "2               17                    9  "
      ]
     },
     "execution_count": 772,
     "metadata": {},
     "output_type": "execute_result"
    }
   ],
   "source": [
    "df_raw_test_feature.head(3)"
   ]
  },
  {
   "cell_type": "markdown",
   "metadata": {},
   "source": [
    "Similar dataset to the first one we observed however it does not have an accompanying salary dataset, we will try to predict it as we have the same features here as the training data does."
   ]
  },
  {
   "cell_type": "markdown",
   "metadata": {},
   "source": [
    "### ---- 3 Clean the data ----"
   ]
  },
  {
   "cell_type": "markdown",
   "metadata": {},
   "source": [
    "First we check if any of the data is null, we create a new dataset after applying the isnull() function to each of our datasets. If there is a null value it will appear as True"
   ]
  },
  {
   "cell_type": "code",
   "execution_count": 773,
   "metadata": {},
   "outputs": [
    {
     "name": "stdout",
     "output_type": "stream",
     "text": [
      "jobId\n",
      "False    1000000\n",
      "Name: jobId, dtype: int64\n",
      "\n",
      "companyId\n",
      "False    1000000\n",
      "Name: companyId, dtype: int64\n",
      "\n",
      "jobType\n",
      "False    1000000\n",
      "Name: jobType, dtype: int64\n",
      "\n",
      "degree\n",
      "False    1000000\n",
      "Name: degree, dtype: int64\n",
      "\n",
      "major\n",
      "False    1000000\n",
      "Name: major, dtype: int64\n",
      "\n",
      "industry\n",
      "False    1000000\n",
      "Name: industry, dtype: int64\n",
      "\n",
      "yearsExperience\n",
      "False    1000000\n",
      "Name: yearsExperience, dtype: int64\n",
      "\n",
      "milesFromMetropolis\n",
      "False    1000000\n",
      "Name: milesFromMetropolis, dtype: int64\n",
      "\n"
     ]
    }
   ],
   "source": [
    "missing_data = df_raw_train_feature.isnull()\n",
    "for column in missing_data.columns.values.tolist():\n",
    "    print(column)\n",
    "    print (missing_data[column].value_counts())\n",
    "    print(\"\")"
   ]
  },
  {
   "cell_type": "code",
   "execution_count": 774,
   "metadata": {},
   "outputs": [
    {
     "name": "stdout",
     "output_type": "stream",
     "text": [
      "jobId\n",
      "False    1000000\n",
      "Name: jobId, dtype: int64\n",
      "\n",
      "salary\n",
      "False    1000000\n",
      "Name: salary, dtype: int64\n",
      "\n"
     ]
    }
   ],
   "source": [
    "missing_data = df_raw_train_salaries.isnull()\n",
    "for column in missing_data.columns.values.tolist():\n",
    "    print(column)\n",
    "    print (missing_data[column].value_counts())\n",
    "    print(\"\")"
   ]
  },
  {
   "cell_type": "code",
   "execution_count": 775,
   "metadata": {},
   "outputs": [
    {
     "name": "stdout",
     "output_type": "stream",
     "text": [
      "jobId\n",
      "False    1000000\n",
      "Name: jobId, dtype: int64\n",
      "\n",
      "companyId\n",
      "False    1000000\n",
      "Name: companyId, dtype: int64\n",
      "\n",
      "jobType\n",
      "False    1000000\n",
      "Name: jobType, dtype: int64\n",
      "\n",
      "degree\n",
      "False    1000000\n",
      "Name: degree, dtype: int64\n",
      "\n",
      "major\n",
      "False    1000000\n",
      "Name: major, dtype: int64\n",
      "\n",
      "industry\n",
      "False    1000000\n",
      "Name: industry, dtype: int64\n",
      "\n",
      "yearsExperience\n",
      "False    1000000\n",
      "Name: yearsExperience, dtype: int64\n",
      "\n",
      "milesFromMetropolis\n",
      "False    1000000\n",
      "Name: milesFromMetropolis, dtype: int64\n",
      "\n"
     ]
    }
   ],
   "source": [
    "missing_data1 = df_raw_test_feature.isnull()\n",
    "for column in missing_data1.columns.values.tolist():\n",
    "    print(column)\n",
    "    print (missing_data1[column].value_counts())\n",
    "    print(\"\")"
   ]
  },
  {
   "cell_type": "markdown",
   "metadata": {},
   "source": [
    "Thus we do not have any null data."
   ]
  },
  {
   "cell_type": "markdown",
   "metadata": {},
   "source": [
    "Here we will use the method .info() it will give us, for each datasets, the length of its columns and its data types."
   ]
  },
  {
   "cell_type": "code",
   "execution_count": 776,
   "metadata": {},
   "outputs": [
    {
     "name": "stdout",
     "output_type": "stream",
     "text": [
      "<class 'pandas.core.frame.DataFrame'>\n",
      "RangeIndex: 1000000 entries, 0 to 999999\n",
      "Data columns (total 8 columns):\n",
      " #   Column               Non-Null Count    Dtype \n",
      "---  ------               --------------    ----- \n",
      " 0   jobId                1000000 non-null  object\n",
      " 1   companyId            1000000 non-null  object\n",
      " 2   jobType              1000000 non-null  object\n",
      " 3   degree               1000000 non-null  object\n",
      " 4   major                1000000 non-null  object\n",
      " 5   industry             1000000 non-null  object\n",
      " 6   yearsExperience      1000000 non-null  int64 \n",
      " 7   milesFromMetropolis  1000000 non-null  int64 \n",
      "dtypes: int64(2), object(6)\n",
      "memory usage: 61.0+ MB\n"
     ]
    }
   ],
   "source": [
    "df_raw_train_feature.info()"
   ]
  },
  {
   "cell_type": "markdown",
   "metadata": {},
   "source": [
    "We do not have null data the data types seems to be appropriate. I want to see the amount of unique values for companyID. We have 1,000,000 x 8 for the shape of the datasets as we have 1,000,000 entries and 8 columns"
   ]
  },
  {
   "cell_type": "code",
   "execution_count": 777,
   "metadata": {},
   "outputs": [
    {
     "name": "stdout",
     "output_type": "stream",
     "text": [
      "<class 'pandas.core.frame.DataFrame'>\n",
      "RangeIndex: 1000000 entries, 0 to 999999\n",
      "Data columns (total 2 columns):\n",
      " #   Column  Non-Null Count    Dtype \n",
      "---  ------  --------------    ----- \n",
      " 0   jobId   1000000 non-null  object\n",
      " 1   salary  1000000 non-null  int64 \n",
      "dtypes: int64(1), object(1)\n",
      "memory usage: 15.3+ MB\n"
     ]
    }
   ],
   "source": [
    "df_raw_train_salaries.info()"
   ]
  },
  {
   "cell_type": "markdown",
   "metadata": {},
   "source": [
    "The shape here is 1,000,000 x 2 we do not see any missing values"
   ]
  },
  {
   "cell_type": "code",
   "execution_count": 778,
   "metadata": {
    "scrolled": true
   },
   "outputs": [
    {
     "name": "stdout",
     "output_type": "stream",
     "text": [
      "<class 'pandas.core.frame.DataFrame'>\n",
      "RangeIndex: 1000000 entries, 0 to 999999\n",
      "Data columns (total 8 columns):\n",
      " #   Column               Non-Null Count    Dtype \n",
      "---  ------               --------------    ----- \n",
      " 0   jobId                1000000 non-null  object\n",
      " 1   companyId            1000000 non-null  object\n",
      " 2   jobType              1000000 non-null  object\n",
      " 3   degree               1000000 non-null  object\n",
      " 4   major                1000000 non-null  object\n",
      " 5   industry             1000000 non-null  object\n",
      " 6   yearsExperience      1000000 non-null  int64 \n",
      " 7   milesFromMetropolis  1000000 non-null  int64 \n",
      "dtypes: int64(2), object(6)\n",
      "memory usage: 61.0+ MB\n"
     ]
    }
   ],
   "source": [
    "df_raw_test_feature.info()"
   ]
  },
  {
   "cell_type": "code",
   "execution_count": 779,
   "metadata": {},
   "outputs": [
    {
     "data": {
      "text/plain": [
       "count     1000000\n",
       "unique         63\n",
       "top        COMP39\n",
       "freq        16193\n",
       "Name: companyId, dtype: object"
      ]
     },
     "execution_count": 779,
     "metadata": {},
     "output_type": "execute_result"
    }
   ],
   "source": [
    "df_raw_train_feature[\"companyId\"].describe()"
   ]
  },
  {
   "cell_type": "markdown",
   "metadata": {},
   "source": [
    "We only have 63 unique companies, I thought it would be possible that we had 1 000 000 different companies and thus it would have been more appropriate to change it to a company ID and numerical data but we have 63 companies and it seems like they all have around 15-16k listings as if they all had the same number of listings each company would have (1,000,000/ 63 = 15873 listings) 15973 listings and that is not far from our top frequency \n",
    "\n",
    "Lets examine the jobId column"
   ]
  },
  {
   "cell_type": "code",
   "execution_count": 780,
   "metadata": {},
   "outputs": [
    {
     "data": {
      "text/plain": [
       "0         JOB1362684407687\n",
       "1         JOB1362684407688\n",
       "2         JOB1362684407689\n",
       "3         JOB1362684407690\n",
       "4         JOB1362684407691\n",
       "                ...       \n",
       "999995    JOB1362685407682\n",
       "999996    JOB1362685407683\n",
       "999997    JOB1362685407684\n",
       "999998    JOB1362685407685\n",
       "999999    JOB1362685407686\n",
       "Name: jobId, Length: 1000000, dtype: object"
      ]
     },
     "execution_count": 780,
     "metadata": {},
     "output_type": "execute_result"
    }
   ],
   "source": [
    "df_raw_train_feature[\"jobId\"]"
   ]
  },
  {
   "cell_type": "markdown",
   "metadata": {},
   "source": [
    "It seems like they are in chronological order. i want to see if I need to **check for duplicate data** I will check out the column's decribe\n",
    "The Id's start from \"JOB1362684407687\" and finish at \"JOB1362685407686\" incrementing by 1 for every new job description"
   ]
  },
  {
   "cell_type": "code",
   "execution_count": 781,
   "metadata": {},
   "outputs": [
    {
     "data": {
      "text/plain": [
       "count              1000000\n",
       "unique             1000000\n",
       "top       JOB1362684566745\n",
       "freq                     1\n",
       "Name: jobId, dtype: object"
      ]
     },
     "execution_count": 781,
     "metadata": {},
     "output_type": "execute_result"
    }
   ],
   "source": [
    "df_raw_train_feature[\"jobId\"].describe()"
   ]
  },
  {
   "cell_type": "markdown",
   "metadata": {},
   "source": [
    "1 000 000 unique values which means there are no duplicate job listings in the training dataset, there can be duplicate job description but it would be for different jobs. We confirm this is the case in all datasets by summing up the amount of duplicates found in each dataset with the duplicated() and sum() methods"
   ]
  },
  {
   "cell_type": "markdown",
   "metadata": {},
   "source": [
    "#### Check for duplicates"
   ]
  },
  {
   "cell_type": "code",
   "execution_count": 782,
   "metadata": {},
   "outputs": [
    {
     "data": {
      "text/plain": [
       "0"
      ]
     },
     "execution_count": 782,
     "metadata": {},
     "output_type": "execute_result"
    }
   ],
   "source": [
    "df_raw_train_feature.duplicated().sum()"
   ]
  },
  {
   "cell_type": "code",
   "execution_count": 783,
   "metadata": {},
   "outputs": [
    {
     "data": {
      "text/plain": [
       "0"
      ]
     },
     "execution_count": 783,
     "metadata": {},
     "output_type": "execute_result"
    }
   ],
   "source": [
    "df_raw_train_salaries.duplicated().sum()"
   ]
  },
  {
   "cell_type": "code",
   "execution_count": 784,
   "metadata": {},
   "outputs": [
    {
     "data": {
      "text/plain": [
       "0"
      ]
     },
     "execution_count": 784,
     "metadata": {},
     "output_type": "execute_result"
    }
   ],
   "source": [
    "df_raw_test_feature.duplicated().sum()"
   ]
  },
  {
   "cell_type": "markdown",
   "metadata": {},
   "source": [
    "All jobId's are unique so different jobs so no duplicates."
   ]
  },
  {
   "cell_type": "markdown",
   "metadata": {},
   "source": [
    "#### Summarize numerical and categorical variables of training and testing features"
   ]
  },
  {
   "cell_type": "code",
   "execution_count": 785,
   "metadata": {},
   "outputs": [
    {
     "data": {
      "text/html": [
       "<div>\n",
       "<style scoped>\n",
       "    .dataframe tbody tr th:only-of-type {\n",
       "        vertical-align: middle;\n",
       "    }\n",
       "\n",
       "    .dataframe tbody tr th {\n",
       "        vertical-align: top;\n",
       "    }\n",
       "\n",
       "    .dataframe thead th {\n",
       "        text-align: right;\n",
       "    }\n",
       "</style>\n",
       "<table border=\"1\" class=\"dataframe\">\n",
       "  <thead>\n",
       "    <tr style=\"text-align: right;\">\n",
       "      <th></th>\n",
       "      <th>jobId</th>\n",
       "      <th>companyId</th>\n",
       "      <th>jobType</th>\n",
       "      <th>degree</th>\n",
       "      <th>major</th>\n",
       "      <th>industry</th>\n",
       "    </tr>\n",
       "  </thead>\n",
       "  <tbody>\n",
       "    <tr>\n",
       "      <th>count</th>\n",
       "      <td>1000000</td>\n",
       "      <td>1000000</td>\n",
       "      <td>1000000</td>\n",
       "      <td>1000000</td>\n",
       "      <td>1000000</td>\n",
       "      <td>1000000</td>\n",
       "    </tr>\n",
       "    <tr>\n",
       "      <th>unique</th>\n",
       "      <td>1000000</td>\n",
       "      <td>63</td>\n",
       "      <td>8</td>\n",
       "      <td>5</td>\n",
       "      <td>9</td>\n",
       "      <td>7</td>\n",
       "    </tr>\n",
       "    <tr>\n",
       "      <th>top</th>\n",
       "      <td>JOB1362684566745</td>\n",
       "      <td>COMP39</td>\n",
       "      <td>SENIOR</td>\n",
       "      <td>HIGH_SCHOOL</td>\n",
       "      <td>NONE</td>\n",
       "      <td>WEB</td>\n",
       "    </tr>\n",
       "    <tr>\n",
       "      <th>freq</th>\n",
       "      <td>1</td>\n",
       "      <td>16193</td>\n",
       "      <td>125886</td>\n",
       "      <td>236976</td>\n",
       "      <td>532355</td>\n",
       "      <td>143206</td>\n",
       "    </tr>\n",
       "  </tbody>\n",
       "</table>\n",
       "</div>"
      ],
      "text/plain": [
       "                   jobId companyId  jobType       degree    major industry\n",
       "count            1000000   1000000  1000000      1000000  1000000  1000000\n",
       "unique           1000000        63        8            5        9        7\n",
       "top     JOB1362684566745    COMP39   SENIOR  HIGH_SCHOOL     NONE      WEB\n",
       "freq                   1     16193   125886       236976   532355   143206"
      ]
     },
     "execution_count": 785,
     "metadata": {},
     "output_type": "execute_result"
    }
   ],
   "source": [
    "df_raw_train_feature.describe(include = ['O'])"
   ]
  },
  {
   "cell_type": "code",
   "execution_count": 786,
   "metadata": {},
   "outputs": [
    {
     "data": {
      "text/html": [
       "<div>\n",
       "<style scoped>\n",
       "    .dataframe tbody tr th:only-of-type {\n",
       "        vertical-align: middle;\n",
       "    }\n",
       "\n",
       "    .dataframe tbody tr th {\n",
       "        vertical-align: top;\n",
       "    }\n",
       "\n",
       "    .dataframe thead th {\n",
       "        text-align: right;\n",
       "    }\n",
       "</style>\n",
       "<table border=\"1\" class=\"dataframe\">\n",
       "  <thead>\n",
       "    <tr style=\"text-align: right;\">\n",
       "      <th></th>\n",
       "      <th>yearsExperience</th>\n",
       "      <th>milesFromMetropolis</th>\n",
       "    </tr>\n",
       "  </thead>\n",
       "  <tbody>\n",
       "    <tr>\n",
       "      <th>count</th>\n",
       "      <td>1000000.000000</td>\n",
       "      <td>1000000.000000</td>\n",
       "    </tr>\n",
       "    <tr>\n",
       "      <th>mean</th>\n",
       "      <td>11.992386</td>\n",
       "      <td>49.529260</td>\n",
       "    </tr>\n",
       "    <tr>\n",
       "      <th>std</th>\n",
       "      <td>7.212391</td>\n",
       "      <td>28.877733</td>\n",
       "    </tr>\n",
       "    <tr>\n",
       "      <th>min</th>\n",
       "      <td>0.000000</td>\n",
       "      <td>0.000000</td>\n",
       "    </tr>\n",
       "    <tr>\n",
       "      <th>25%</th>\n",
       "      <td>6.000000</td>\n",
       "      <td>25.000000</td>\n",
       "    </tr>\n",
       "    <tr>\n",
       "      <th>50%</th>\n",
       "      <td>12.000000</td>\n",
       "      <td>50.000000</td>\n",
       "    </tr>\n",
       "    <tr>\n",
       "      <th>75%</th>\n",
       "      <td>18.000000</td>\n",
       "      <td>75.000000</td>\n",
       "    </tr>\n",
       "    <tr>\n",
       "      <th>max</th>\n",
       "      <td>24.000000</td>\n",
       "      <td>99.000000</td>\n",
       "    </tr>\n",
       "  </tbody>\n",
       "</table>\n",
       "</div>"
      ],
      "text/plain": [
       "       yearsExperience  milesFromMetropolis\n",
       "count   1000000.000000       1000000.000000\n",
       "mean         11.992386            49.529260\n",
       "std           7.212391            28.877733\n",
       "min           0.000000             0.000000\n",
       "25%           6.000000            25.000000\n",
       "50%          12.000000            50.000000\n",
       "75%          18.000000            75.000000\n",
       "max          24.000000            99.000000"
      ]
     },
     "execution_count": 786,
     "metadata": {},
     "output_type": "execute_result"
    }
   ],
   "source": [
    "df_raw_train_feature.describe()"
   ]
  },
  {
   "cell_type": "markdown",
   "metadata": {},
   "source": [
    "The categorical values will have the number of unique categories, the most frequent one as well as the frequency in which it is represented. \n",
    "We notice by doing some quick math that most categories have around the same number of entries for the categorical data (except for major) (we divide the coount by the amouont of uniques, the top frequency is usually close to the result we find which leads us to give the assumption above (was already explained for companyID).\n",
    "The numerical data, we have the mean the standard deviation and 5 number summary (min, Q1, median, Q3, max)\n",
    "We will analyze this further with abalyzing the value counts of each category per categorical data"
   ]
  },
  {
   "cell_type": "code",
   "execution_count": 787,
   "metadata": {},
   "outputs": [
    {
     "data": {
      "text/html": [
       "<div>\n",
       "<style scoped>\n",
       "    .dataframe tbody tr th:only-of-type {\n",
       "        vertical-align: middle;\n",
       "    }\n",
       "\n",
       "    .dataframe tbody tr th {\n",
       "        vertical-align: top;\n",
       "    }\n",
       "\n",
       "    .dataframe thead th {\n",
       "        text-align: right;\n",
       "    }\n",
       "</style>\n",
       "<table border=\"1\" class=\"dataframe\">\n",
       "  <thead>\n",
       "    <tr style=\"text-align: right;\">\n",
       "      <th></th>\n",
       "      <th>jobId</th>\n",
       "      <th>companyId</th>\n",
       "      <th>jobType</th>\n",
       "      <th>degree</th>\n",
       "      <th>major</th>\n",
       "      <th>industry</th>\n",
       "      <th>yearsExperience</th>\n",
       "      <th>milesFromMetropolis</th>\n",
       "    </tr>\n",
       "  </thead>\n",
       "  <tbody>\n",
       "    <tr>\n",
       "      <th>count</th>\n",
       "      <td>1000000</td>\n",
       "      <td>1000000</td>\n",
       "      <td>1000000</td>\n",
       "      <td>1000000</td>\n",
       "      <td>1000000</td>\n",
       "      <td>1000000</td>\n",
       "      <td>1000000.000000</td>\n",
       "      <td>1000000.000000</td>\n",
       "    </tr>\n",
       "    <tr>\n",
       "      <th>unique</th>\n",
       "      <td>1000000</td>\n",
       "      <td>63</td>\n",
       "      <td>8</td>\n",
       "      <td>5</td>\n",
       "      <td>9</td>\n",
       "      <td>7</td>\n",
       "      <td>NaN</td>\n",
       "      <td>NaN</td>\n",
       "    </tr>\n",
       "    <tr>\n",
       "      <th>top</th>\n",
       "      <td>JOB1362685606960</td>\n",
       "      <td>COMP13</td>\n",
       "      <td>VICE_PRESIDENT</td>\n",
       "      <td>HIGH_SCHOOL</td>\n",
       "      <td>NONE</td>\n",
       "      <td>SERVICE</td>\n",
       "      <td>NaN</td>\n",
       "      <td>NaN</td>\n",
       "    </tr>\n",
       "    <tr>\n",
       "      <th>freq</th>\n",
       "      <td>1</td>\n",
       "      <td>16130</td>\n",
       "      <td>125434</td>\n",
       "      <td>238255</td>\n",
       "      <td>534068</td>\n",
       "      <td>143161</td>\n",
       "      <td>NaN</td>\n",
       "      <td>NaN</td>\n",
       "    </tr>\n",
       "    <tr>\n",
       "      <th>mean</th>\n",
       "      <td>NaN</td>\n",
       "      <td>NaN</td>\n",
       "      <td>NaN</td>\n",
       "      <td>NaN</td>\n",
       "      <td>NaN</td>\n",
       "      <td>NaN</td>\n",
       "      <td>12.002104</td>\n",
       "      <td>49.526414</td>\n",
       "    </tr>\n",
       "    <tr>\n",
       "      <th>std</th>\n",
       "      <td>NaN</td>\n",
       "      <td>NaN</td>\n",
       "      <td>NaN</td>\n",
       "      <td>NaN</td>\n",
       "      <td>NaN</td>\n",
       "      <td>NaN</td>\n",
       "      <td>7.213179</td>\n",
       "      <td>28.889713</td>\n",
       "    </tr>\n",
       "    <tr>\n",
       "      <th>min</th>\n",
       "      <td>NaN</td>\n",
       "      <td>NaN</td>\n",
       "      <td>NaN</td>\n",
       "      <td>NaN</td>\n",
       "      <td>NaN</td>\n",
       "      <td>NaN</td>\n",
       "      <td>0.000000</td>\n",
       "      <td>0.000000</td>\n",
       "    </tr>\n",
       "    <tr>\n",
       "      <th>25%</th>\n",
       "      <td>NaN</td>\n",
       "      <td>NaN</td>\n",
       "      <td>NaN</td>\n",
       "      <td>NaN</td>\n",
       "      <td>NaN</td>\n",
       "      <td>NaN</td>\n",
       "      <td>6.000000</td>\n",
       "      <td>25.000000</td>\n",
       "    </tr>\n",
       "    <tr>\n",
       "      <th>50%</th>\n",
       "      <td>NaN</td>\n",
       "      <td>NaN</td>\n",
       "      <td>NaN</td>\n",
       "      <td>NaN</td>\n",
       "      <td>NaN</td>\n",
       "      <td>NaN</td>\n",
       "      <td>12.000000</td>\n",
       "      <td>50.000000</td>\n",
       "    </tr>\n",
       "    <tr>\n",
       "      <th>75%</th>\n",
       "      <td>NaN</td>\n",
       "      <td>NaN</td>\n",
       "      <td>NaN</td>\n",
       "      <td>NaN</td>\n",
       "      <td>NaN</td>\n",
       "      <td>NaN</td>\n",
       "      <td>18.000000</td>\n",
       "      <td>75.000000</td>\n",
       "    </tr>\n",
       "    <tr>\n",
       "      <th>max</th>\n",
       "      <td>NaN</td>\n",
       "      <td>NaN</td>\n",
       "      <td>NaN</td>\n",
       "      <td>NaN</td>\n",
       "      <td>NaN</td>\n",
       "      <td>NaN</td>\n",
       "      <td>24.000000</td>\n",
       "      <td>99.000000</td>\n",
       "    </tr>\n",
       "  </tbody>\n",
       "</table>\n",
       "</div>"
      ],
      "text/plain": [
       "                   jobId companyId         jobType       degree    major  \\\n",
       "count            1000000   1000000         1000000      1000000  1000000   \n",
       "unique           1000000        63               8            5        9   \n",
       "top     JOB1362685606960    COMP13  VICE_PRESIDENT  HIGH_SCHOOL     NONE   \n",
       "freq                   1     16130          125434       238255   534068   \n",
       "mean                 NaN       NaN             NaN          NaN      NaN   \n",
       "std                  NaN       NaN             NaN          NaN      NaN   \n",
       "min                  NaN       NaN             NaN          NaN      NaN   \n",
       "25%                  NaN       NaN             NaN          NaN      NaN   \n",
       "50%                  NaN       NaN             NaN          NaN      NaN   \n",
       "75%                  NaN       NaN             NaN          NaN      NaN   \n",
       "max                  NaN       NaN             NaN          NaN      NaN   \n",
       "\n",
       "       industry  yearsExperience  milesFromMetropolis  \n",
       "count   1000000   1000000.000000       1000000.000000  \n",
       "unique        7              NaN                  NaN  \n",
       "top     SERVICE              NaN                  NaN  \n",
       "freq     143161              NaN                  NaN  \n",
       "mean        NaN        12.002104            49.526414  \n",
       "std         NaN         7.213179            28.889713  \n",
       "min         NaN         0.000000             0.000000  \n",
       "25%         NaN         6.000000            25.000000  \n",
       "50%         NaN        12.000000            50.000000  \n",
       "75%         NaN        18.000000            75.000000  \n",
       "max         NaN        24.000000            99.000000  "
      ]
     },
     "execution_count": 787,
     "metadata": {},
     "output_type": "execute_result"
    }
   ],
   "source": [
    "df_raw_test_feature.describe(include = 'all')"
   ]
  },
  {
   "cell_type": "markdown",
   "metadata": {},
   "source": [
    "We notice that the test data is very similar to the training data. For the categorical data we have the same amount of unique categories per categorical data and for the numerical data the mean the standard deviation and the 5 number summary are all very similar"
   ]
  },
  {
   "cell_type": "code",
   "execution_count": 788,
   "metadata": {},
   "outputs": [
    {
     "data": {
      "text/html": [
       "<div>\n",
       "<style scoped>\n",
       "    .dataframe tbody tr th:only-of-type {\n",
       "        vertical-align: middle;\n",
       "    }\n",
       "\n",
       "    .dataframe tbody tr th {\n",
       "        vertical-align: top;\n",
       "    }\n",
       "\n",
       "    .dataframe thead th {\n",
       "        text-align: right;\n",
       "    }\n",
       "</style>\n",
       "<table border=\"1\" class=\"dataframe\">\n",
       "  <thead>\n",
       "    <tr style=\"text-align: right;\">\n",
       "      <th></th>\n",
       "      <th>salary</th>\n",
       "    </tr>\n",
       "  </thead>\n",
       "  <tbody>\n",
       "    <tr>\n",
       "      <th>count</th>\n",
       "      <td>1000000.000000</td>\n",
       "    </tr>\n",
       "    <tr>\n",
       "      <th>mean</th>\n",
       "      <td>116.061818</td>\n",
       "    </tr>\n",
       "    <tr>\n",
       "      <th>std</th>\n",
       "      <td>38.717936</td>\n",
       "    </tr>\n",
       "    <tr>\n",
       "      <th>min</th>\n",
       "      <td>0.000000</td>\n",
       "    </tr>\n",
       "    <tr>\n",
       "      <th>25%</th>\n",
       "      <td>88.000000</td>\n",
       "    </tr>\n",
       "    <tr>\n",
       "      <th>50%</th>\n",
       "      <td>114.000000</td>\n",
       "    </tr>\n",
       "    <tr>\n",
       "      <th>75%</th>\n",
       "      <td>141.000000</td>\n",
       "    </tr>\n",
       "    <tr>\n",
       "      <th>max</th>\n",
       "      <td>301.000000</td>\n",
       "    </tr>\n",
       "  </tbody>\n",
       "</table>\n",
       "</div>"
      ],
      "text/plain": [
       "               salary\n",
       "count  1000000.000000\n",
       "mean       116.061818\n",
       "std         38.717936\n",
       "min          0.000000\n",
       "25%         88.000000\n",
       "50%        114.000000\n",
       "75%        141.000000\n",
       "max        301.000000"
      ]
     },
     "execution_count": 788,
     "metadata": {},
     "output_type": "execute_result"
    }
   ],
   "source": [
    "df_raw_train_salaries.describe()"
   ]
  },
  {
   "cell_type": "markdown",
   "metadata": {},
   "source": [
    "We immediately notice something unusual here with the minimum salary being 0, also it seems like their is a skew to the right as the gap between the 3rd quartile and the max is bigger than any other gap. Also the mean is after the median but slighlty so there would be a very slight skew if anything\n",
    "We are going to probably remove some outliers in the salary. Since the salaries dataset shares a common unique identifier in JobId with the training features dataset we will merge them so that the jobId's we remove from one will be removed from the other.\n",
    "Also it is best practice before applying a model to it that the training and target (salary) variables are in the same dataset"
   ]
  },
  {
   "cell_type": "code",
   "execution_count": 789,
   "metadata": {},
   "outputs": [
    {
     "data": {
      "text/html": [
       "<div>\n",
       "<style scoped>\n",
       "    .dataframe tbody tr th:only-of-type {\n",
       "        vertical-align: middle;\n",
       "    }\n",
       "\n",
       "    .dataframe tbody tr th {\n",
       "        vertical-align: top;\n",
       "    }\n",
       "\n",
       "    .dataframe thead th {\n",
       "        text-align: right;\n",
       "    }\n",
       "</style>\n",
       "<table border=\"1\" class=\"dataframe\">\n",
       "  <thead>\n",
       "    <tr style=\"text-align: right;\">\n",
       "      <th></th>\n",
       "      <th>jobId</th>\n",
       "      <th>companyId</th>\n",
       "      <th>jobType</th>\n",
       "      <th>degree</th>\n",
       "      <th>major</th>\n",
       "      <th>industry</th>\n",
       "      <th>yearsExperience</th>\n",
       "      <th>milesFromMetropolis</th>\n",
       "      <th>salary</th>\n",
       "    </tr>\n",
       "  </thead>\n",
       "  <tbody>\n",
       "    <tr>\n",
       "      <th>0</th>\n",
       "      <td>JOB1362684407687</td>\n",
       "      <td>COMP37</td>\n",
       "      <td>CFO</td>\n",
       "      <td>MASTERS</td>\n",
       "      <td>MATH</td>\n",
       "      <td>HEALTH</td>\n",
       "      <td>10</td>\n",
       "      <td>83</td>\n",
       "      <td>130</td>\n",
       "    </tr>\n",
       "    <tr>\n",
       "      <th>1</th>\n",
       "      <td>JOB1362684407688</td>\n",
       "      <td>COMP19</td>\n",
       "      <td>CEO</td>\n",
       "      <td>HIGH_SCHOOL</td>\n",
       "      <td>NONE</td>\n",
       "      <td>WEB</td>\n",
       "      <td>3</td>\n",
       "      <td>73</td>\n",
       "      <td>101</td>\n",
       "    </tr>\n",
       "    <tr>\n",
       "      <th>2</th>\n",
       "      <td>JOB1362684407689</td>\n",
       "      <td>COMP52</td>\n",
       "      <td>VICE_PRESIDENT</td>\n",
       "      <td>DOCTORAL</td>\n",
       "      <td>PHYSICS</td>\n",
       "      <td>HEALTH</td>\n",
       "      <td>10</td>\n",
       "      <td>38</td>\n",
       "      <td>137</td>\n",
       "    </tr>\n",
       "  </tbody>\n",
       "</table>\n",
       "</div>"
      ],
      "text/plain": [
       "              jobId companyId         jobType       degree    major industry  \\\n",
       "0  JOB1362684407687    COMP37             CFO      MASTERS     MATH   HEALTH   \n",
       "1  JOB1362684407688    COMP19             CEO  HIGH_SCHOOL     NONE      WEB   \n",
       "2  JOB1362684407689    COMP52  VICE_PRESIDENT     DOCTORAL  PHYSICS   HEALTH   \n",
       "\n",
       "   yearsExperience  milesFromMetropolis  salary  \n",
       "0               10                   83     130  \n",
       "1                3                   73     101  \n",
       "2               10                   38     137  "
      ]
     },
     "execution_count": 789,
     "metadata": {},
     "output_type": "execute_result"
    }
   ],
   "source": [
    "#Merge features and the target and examine the first 3 rows of new dataframe\n",
    "df_train = pd.merge(df_raw_train_feature, df_raw_train_salaries, on='jobId')\n",
    "df_train.head(3)"
   ]
  },
  {
   "cell_type": "markdown",
   "metadata": {},
   "source": [
    "We now have our complete training dataset with all the feature variables as well as our target which is salary. We make sure that all our data is there as well that all the columns data types are intact"
   ]
  },
  {
   "cell_type": "code",
   "execution_count": 790,
   "metadata": {},
   "outputs": [
    {
     "name": "stdout",
     "output_type": "stream",
     "text": [
      "<class 'pandas.core.frame.DataFrame'>\n",
      "Int64Index: 1000000 entries, 0 to 999999\n",
      "Data columns (total 9 columns):\n",
      " #   Column               Non-Null Count    Dtype \n",
      "---  ------               --------------    ----- \n",
      " 0   jobId                1000000 non-null  object\n",
      " 1   companyId            1000000 non-null  object\n",
      " 2   jobType              1000000 non-null  object\n",
      " 3   degree               1000000 non-null  object\n",
      " 4   major                1000000 non-null  object\n",
      " 5   industry             1000000 non-null  object\n",
      " 6   yearsExperience      1000000 non-null  int64 \n",
      " 7   milesFromMetropolis  1000000 non-null  int64 \n",
      " 8   salary               1000000 non-null  int64 \n",
      "dtypes: int64(3), object(6)\n",
      "memory usage: 76.3+ MB\n"
     ]
    }
   ],
   "source": [
    "df_train.info()"
   ]
  },
  {
   "cell_type": "markdown",
   "metadata": {},
   "source": [
    "#### We now want to find potential outliers in our target variable - salaries"
   ]
  },
  {
   "cell_type": "code",
   "execution_count": 791,
   "metadata": {},
   "outputs": [
    {
     "data": {
      "text/plain": [
       "count    1000000.000000\n",
       "mean         116.061818\n",
       "std           38.717936\n",
       "min            0.000000\n",
       "25%           88.000000\n",
       "50%          114.000000\n",
       "75%          141.000000\n",
       "max          301.000000\n",
       "Name: salary, dtype: float64"
      ]
     },
     "execution_count": 791,
     "metadata": {},
     "output_type": "execute_result"
    }
   ],
   "source": [
    "salary_info = df_train.salary.describe()\n",
    "salary_info"
   ]
  },
  {
   "cell_type": "markdown",
   "metadata": {},
   "source": [
    "As we pointed out above, we have some irregularities as we find jobs with 0 salary. We will use the IQR rule to find potential outliers - IQR = Q3-Q1, the upper bound is 1.5 * IQR + Q3 and the lower bound Q1 - 1.5 * IQR "
   ]
  },
  {
   "cell_type": "code",
   "execution_count": 792,
   "metadata": {},
   "outputs": [
    {
     "name": "stdout",
     "output_type": "stream",
     "text": [
      "The upper and lower bounds for suspected outliers are 8.5 and 220.5\n"
     ]
    }
   ],
   "source": [
    "IQR = salary_info[\"75%\"] - salary_info[\"25%\"]\n",
    "upper_bound = salary_info[\"75%\"] + 1.5 * IQR\n",
    "lower_bound = salary_info[\"25%\"] - 1.5 * IQR\n",
    "print(\"The upper and lower bounds for suspected outliers are\", lower_bound, \"and\", upper_bound)\n"
   ]
  },
  {
   "cell_type": "markdown",
   "metadata": {},
   "source": [
    "#### Examine outliers"
   ]
  },
  {
   "cell_type": "code",
   "execution_count": 793,
   "metadata": {},
   "outputs": [
    {
     "data": {
      "text/plain": [
       "0    5\n",
       "Name: salary, dtype: int64"
      ]
     },
     "execution_count": 793,
     "metadata": {},
     "output_type": "execute_result"
    }
   ],
   "source": [
    "df_train.loc[df_train.salary < 8.5, \"salary\"].value_counts()"
   ]
  },
  {
   "cell_type": "markdown",
   "metadata": {},
   "source": [
    "There are a total of 5 outliers under the lower bound all of 0, lets investigate them further"
   ]
  },
  {
   "cell_type": "code",
   "execution_count": 794,
   "metadata": {},
   "outputs": [
    {
     "data": {
      "text/html": [
       "<div>\n",
       "<style scoped>\n",
       "    .dataframe tbody tr th:only-of-type {\n",
       "        vertical-align: middle;\n",
       "    }\n",
       "\n",
       "    .dataframe tbody tr th {\n",
       "        vertical-align: top;\n",
       "    }\n",
       "\n",
       "    .dataframe thead th {\n",
       "        text-align: right;\n",
       "    }\n",
       "</style>\n",
       "<table border=\"1\" class=\"dataframe\">\n",
       "  <thead>\n",
       "    <tr style=\"text-align: right;\">\n",
       "      <th></th>\n",
       "      <th>jobId</th>\n",
       "      <th>companyId</th>\n",
       "      <th>jobType</th>\n",
       "      <th>degree</th>\n",
       "      <th>major</th>\n",
       "      <th>industry</th>\n",
       "      <th>yearsExperience</th>\n",
       "      <th>milesFromMetropolis</th>\n",
       "      <th>salary</th>\n",
       "    </tr>\n",
       "  </thead>\n",
       "  <tbody>\n",
       "    <tr>\n",
       "      <th>30559</th>\n",
       "      <td>JOB1362684438246</td>\n",
       "      <td>COMP44</td>\n",
       "      <td>JUNIOR</td>\n",
       "      <td>DOCTORAL</td>\n",
       "      <td>MATH</td>\n",
       "      <td>AUTO</td>\n",
       "      <td>11</td>\n",
       "      <td>7</td>\n",
       "      <td>0</td>\n",
       "    </tr>\n",
       "    <tr>\n",
       "      <th>495984</th>\n",
       "      <td>JOB1362684903671</td>\n",
       "      <td>COMP34</td>\n",
       "      <td>JUNIOR</td>\n",
       "      <td>NONE</td>\n",
       "      <td>NONE</td>\n",
       "      <td>OIL</td>\n",
       "      <td>1</td>\n",
       "      <td>25</td>\n",
       "      <td>0</td>\n",
       "    </tr>\n",
       "    <tr>\n",
       "      <th>652076</th>\n",
       "      <td>JOB1362685059763</td>\n",
       "      <td>COMP25</td>\n",
       "      <td>CTO</td>\n",
       "      <td>HIGH_SCHOOL</td>\n",
       "      <td>NONE</td>\n",
       "      <td>AUTO</td>\n",
       "      <td>6</td>\n",
       "      <td>60</td>\n",
       "      <td>0</td>\n",
       "    </tr>\n",
       "    <tr>\n",
       "      <th>816129</th>\n",
       "      <td>JOB1362685223816</td>\n",
       "      <td>COMP42</td>\n",
       "      <td>MANAGER</td>\n",
       "      <td>DOCTORAL</td>\n",
       "      <td>ENGINEERING</td>\n",
       "      <td>FINANCE</td>\n",
       "      <td>18</td>\n",
       "      <td>6</td>\n",
       "      <td>0</td>\n",
       "    </tr>\n",
       "    <tr>\n",
       "      <th>828156</th>\n",
       "      <td>JOB1362685235843</td>\n",
       "      <td>COMP40</td>\n",
       "      <td>VICE_PRESIDENT</td>\n",
       "      <td>MASTERS</td>\n",
       "      <td>ENGINEERING</td>\n",
       "      <td>WEB</td>\n",
       "      <td>3</td>\n",
       "      <td>29</td>\n",
       "      <td>0</td>\n",
       "    </tr>\n",
       "  </tbody>\n",
       "</table>\n",
       "</div>"
      ],
      "text/plain": [
       "                   jobId companyId         jobType       degree        major  \\\n",
       "30559   JOB1362684438246    COMP44          JUNIOR     DOCTORAL         MATH   \n",
       "495984  JOB1362684903671    COMP34          JUNIOR         NONE         NONE   \n",
       "652076  JOB1362685059763    COMP25             CTO  HIGH_SCHOOL         NONE   \n",
       "816129  JOB1362685223816    COMP42         MANAGER     DOCTORAL  ENGINEERING   \n",
       "828156  JOB1362685235843    COMP40  VICE_PRESIDENT      MASTERS  ENGINEERING   \n",
       "\n",
       "       industry  yearsExperience  milesFromMetropolis  salary  \n",
       "30559      AUTO               11                    7       0  \n",
       "495984      OIL                1                   25       0  \n",
       "652076     AUTO                6                   60       0  \n",
       "816129  FINANCE               18                    6       0  \n",
       "828156      WEB                3                   29       0  "
      ]
     },
     "execution_count": 794,
     "metadata": {},
     "output_type": "execute_result"
    }
   ],
   "source": [
    "# check potential outlier below lower bound\n",
    "df_train[df_train.salary < 8.5]"
   ]
  },
  {
   "cell_type": "markdown",
   "metadata": {},
   "source": [
    "All the entries below the lower bound are oof 0 salary and they do not appear to be volunteer positions. These are all very likely missing or corrupt data and we are going to remove them from the training set.\n",
    "Looking at the 5 number summary for salary, we can say that its distribution will likely have a right skew, thus we assume that the count of upper bound outlier will be big. We will the upper bound outliers by jobType as better job type usually earn more salary."
   ]
  },
  {
   "cell_type": "code",
   "execution_count": 795,
   "metadata": {},
   "outputs": [
    {
     "data": {
      "text/plain": [
       "CEO               2893\n",
       "CFO               1308\n",
       "CTO               1298\n",
       "VICE_PRESIDENT     520\n",
       "MANAGER            188\n",
       "SENIOR              50\n",
       "JUNIOR              16\n",
       "Name: jobType, dtype: int64"
      ]
     },
     "execution_count": 795,
     "metadata": {},
     "output_type": "execute_result"
    }
   ],
   "source": [
    "df_train.loc[df_train.salary > 222.5, 'jobType'].value_counts()"
   ]
  },
  {
   "cell_type": "markdown",
   "metadata": {},
   "source": [
    "Better job type do yield a better salary. We will take a closer look at the Junior category as it would be the lleast likely to earn more than the upper bound."
   ]
  },
  {
   "cell_type": "code",
   "execution_count": 796,
   "metadata": {},
   "outputs": [
    {
     "data": {
      "text/html": [
       "<div>\n",
       "<style scoped>\n",
       "    .dataframe tbody tr th:only-of-type {\n",
       "        vertical-align: middle;\n",
       "    }\n",
       "\n",
       "    .dataframe tbody tr th {\n",
       "        vertical-align: top;\n",
       "    }\n",
       "\n",
       "    .dataframe thead th {\n",
       "        text-align: right;\n",
       "    }\n",
       "</style>\n",
       "<table border=\"1\" class=\"dataframe\">\n",
       "  <thead>\n",
       "    <tr style=\"text-align: right;\">\n",
       "      <th></th>\n",
       "      <th>jobId</th>\n",
       "      <th>companyId</th>\n",
       "      <th>jobType</th>\n",
       "      <th>degree</th>\n",
       "      <th>major</th>\n",
       "      <th>industry</th>\n",
       "      <th>yearsExperience</th>\n",
       "      <th>milesFromMetropolis</th>\n",
       "      <th>salary</th>\n",
       "    </tr>\n",
       "  </thead>\n",
       "  <tbody>\n",
       "    <tr>\n",
       "      <th>1222</th>\n",
       "      <td>JOB1362684408909</td>\n",
       "      <td>COMP40</td>\n",
       "      <td>JUNIOR</td>\n",
       "      <td>MASTERS</td>\n",
       "      <td>COMPSCI</td>\n",
       "      <td>OIL</td>\n",
       "      <td>24</td>\n",
       "      <td>5</td>\n",
       "      <td>225</td>\n",
       "    </tr>\n",
       "    <tr>\n",
       "      <th>27710</th>\n",
       "      <td>JOB1362684435397</td>\n",
       "      <td>COMP21</td>\n",
       "      <td>JUNIOR</td>\n",
       "      <td>DOCTORAL</td>\n",
       "      <td>ENGINEERING</td>\n",
       "      <td>OIL</td>\n",
       "      <td>24</td>\n",
       "      <td>3</td>\n",
       "      <td>246</td>\n",
       "    </tr>\n",
       "    <tr>\n",
       "      <th>31355</th>\n",
       "      <td>JOB1362684439042</td>\n",
       "      <td>COMP45</td>\n",
       "      <td>JUNIOR</td>\n",
       "      <td>DOCTORAL</td>\n",
       "      <td>COMPSCI</td>\n",
       "      <td>FINANCE</td>\n",
       "      <td>24</td>\n",
       "      <td>0</td>\n",
       "      <td>225</td>\n",
       "    </tr>\n",
       "    <tr>\n",
       "      <th>100042</th>\n",
       "      <td>JOB1362684507729</td>\n",
       "      <td>COMP17</td>\n",
       "      <td>JUNIOR</td>\n",
       "      <td>DOCTORAL</td>\n",
       "      <td>BUSINESS</td>\n",
       "      <td>FINANCE</td>\n",
       "      <td>23</td>\n",
       "      <td>8</td>\n",
       "      <td>248</td>\n",
       "    </tr>\n",
       "    <tr>\n",
       "      <th>160333</th>\n",
       "      <td>JOB1362684568020</td>\n",
       "      <td>COMP18</td>\n",
       "      <td>JUNIOR</td>\n",
       "      <td>DOCTORAL</td>\n",
       "      <td>BUSINESS</td>\n",
       "      <td>FINANCE</td>\n",
       "      <td>22</td>\n",
       "      <td>3</td>\n",
       "      <td>223</td>\n",
       "    </tr>\n",
       "    <tr>\n",
       "      <th>303778</th>\n",
       "      <td>JOB1362684711465</td>\n",
       "      <td>COMP51</td>\n",
       "      <td>JUNIOR</td>\n",
       "      <td>MASTERS</td>\n",
       "      <td>ENGINEERING</td>\n",
       "      <td>WEB</td>\n",
       "      <td>24</td>\n",
       "      <td>2</td>\n",
       "      <td>226</td>\n",
       "    </tr>\n",
       "    <tr>\n",
       "      <th>348354</th>\n",
       "      <td>JOB1362684756041</td>\n",
       "      <td>COMP56</td>\n",
       "      <td>JUNIOR</td>\n",
       "      <td>DOCTORAL</td>\n",
       "      <td>ENGINEERING</td>\n",
       "      <td>OIL</td>\n",
       "      <td>23</td>\n",
       "      <td>25</td>\n",
       "      <td>226</td>\n",
       "    </tr>\n",
       "    <tr>\n",
       "      <th>500739</th>\n",
       "      <td>JOB1362684908426</td>\n",
       "      <td>COMP40</td>\n",
       "      <td>JUNIOR</td>\n",
       "      <td>DOCTORAL</td>\n",
       "      <td>ENGINEERING</td>\n",
       "      <td>OIL</td>\n",
       "      <td>21</td>\n",
       "      <td>0</td>\n",
       "      <td>227</td>\n",
       "    </tr>\n",
       "    <tr>\n",
       "      <th>627534</th>\n",
       "      <td>JOB1362685035221</td>\n",
       "      <td>COMP5</td>\n",
       "      <td>JUNIOR</td>\n",
       "      <td>DOCTORAL</td>\n",
       "      <td>ENGINEERING</td>\n",
       "      <td>OIL</td>\n",
       "      <td>24</td>\n",
       "      <td>29</td>\n",
       "      <td>230</td>\n",
       "    </tr>\n",
       "    <tr>\n",
       "      <th>645555</th>\n",
       "      <td>JOB1362685053242</td>\n",
       "      <td>COMP36</td>\n",
       "      <td>JUNIOR</td>\n",
       "      <td>DOCTORAL</td>\n",
       "      <td>BUSINESS</td>\n",
       "      <td>FINANCE</td>\n",
       "      <td>24</td>\n",
       "      <td>1</td>\n",
       "      <td>225</td>\n",
       "    </tr>\n",
       "    <tr>\n",
       "      <th>685775</th>\n",
       "      <td>JOB1362685093462</td>\n",
       "      <td>COMP38</td>\n",
       "      <td>JUNIOR</td>\n",
       "      <td>BACHELORS</td>\n",
       "      <td>ENGINEERING</td>\n",
       "      <td>OIL</td>\n",
       "      <td>24</td>\n",
       "      <td>13</td>\n",
       "      <td>225</td>\n",
       "    </tr>\n",
       "    <tr>\n",
       "      <th>743326</th>\n",
       "      <td>JOB1362685151013</td>\n",
       "      <td>COMP14</td>\n",
       "      <td>JUNIOR</td>\n",
       "      <td>DOCTORAL</td>\n",
       "      <td>BUSINESS</td>\n",
       "      <td>FINANCE</td>\n",
       "      <td>19</td>\n",
       "      <td>0</td>\n",
       "      <td>236</td>\n",
       "    </tr>\n",
       "    <tr>\n",
       "      <th>787674</th>\n",
       "      <td>JOB1362685195361</td>\n",
       "      <td>COMP43</td>\n",
       "      <td>JUNIOR</td>\n",
       "      <td>DOCTORAL</td>\n",
       "      <td>BUSINESS</td>\n",
       "      <td>FINANCE</td>\n",
       "      <td>18</td>\n",
       "      <td>15</td>\n",
       "      <td>232</td>\n",
       "    </tr>\n",
       "    <tr>\n",
       "      <th>796956</th>\n",
       "      <td>JOB1362685204643</td>\n",
       "      <td>COMP30</td>\n",
       "      <td>JUNIOR</td>\n",
       "      <td>MASTERS</td>\n",
       "      <td>BUSINESS</td>\n",
       "      <td>OIL</td>\n",
       "      <td>24</td>\n",
       "      <td>2</td>\n",
       "      <td>228</td>\n",
       "    </tr>\n",
       "    <tr>\n",
       "      <th>855219</th>\n",
       "      <td>JOB1362685262906</td>\n",
       "      <td>COMP13</td>\n",
       "      <td>JUNIOR</td>\n",
       "      <td>MASTERS</td>\n",
       "      <td>ENGINEERING</td>\n",
       "      <td>OIL</td>\n",
       "      <td>22</td>\n",
       "      <td>26</td>\n",
       "      <td>225</td>\n",
       "    </tr>\n",
       "    <tr>\n",
       "      <th>954368</th>\n",
       "      <td>JOB1362685362055</td>\n",
       "      <td>COMP11</td>\n",
       "      <td>JUNIOR</td>\n",
       "      <td>DOCTORAL</td>\n",
       "      <td>BUSINESS</td>\n",
       "      <td>OIL</td>\n",
       "      <td>24</td>\n",
       "      <td>26</td>\n",
       "      <td>223</td>\n",
       "    </tr>\n",
       "  </tbody>\n",
       "</table>\n",
       "</div>"
      ],
      "text/plain": [
       "                   jobId companyId jobType     degree        major industry  \\\n",
       "1222    JOB1362684408909    COMP40  JUNIOR    MASTERS      COMPSCI      OIL   \n",
       "27710   JOB1362684435397    COMP21  JUNIOR   DOCTORAL  ENGINEERING      OIL   \n",
       "31355   JOB1362684439042    COMP45  JUNIOR   DOCTORAL      COMPSCI  FINANCE   \n",
       "100042  JOB1362684507729    COMP17  JUNIOR   DOCTORAL     BUSINESS  FINANCE   \n",
       "160333  JOB1362684568020    COMP18  JUNIOR   DOCTORAL     BUSINESS  FINANCE   \n",
       "303778  JOB1362684711465    COMP51  JUNIOR    MASTERS  ENGINEERING      WEB   \n",
       "348354  JOB1362684756041    COMP56  JUNIOR   DOCTORAL  ENGINEERING      OIL   \n",
       "500739  JOB1362684908426    COMP40  JUNIOR   DOCTORAL  ENGINEERING      OIL   \n",
       "627534  JOB1362685035221     COMP5  JUNIOR   DOCTORAL  ENGINEERING      OIL   \n",
       "645555  JOB1362685053242    COMP36  JUNIOR   DOCTORAL     BUSINESS  FINANCE   \n",
       "685775  JOB1362685093462    COMP38  JUNIOR  BACHELORS  ENGINEERING      OIL   \n",
       "743326  JOB1362685151013    COMP14  JUNIOR   DOCTORAL     BUSINESS  FINANCE   \n",
       "787674  JOB1362685195361    COMP43  JUNIOR   DOCTORAL     BUSINESS  FINANCE   \n",
       "796956  JOB1362685204643    COMP30  JUNIOR    MASTERS     BUSINESS      OIL   \n",
       "855219  JOB1362685262906    COMP13  JUNIOR    MASTERS  ENGINEERING      OIL   \n",
       "954368  JOB1362685362055    COMP11  JUNIOR   DOCTORAL     BUSINESS      OIL   \n",
       "\n",
       "        yearsExperience  milesFromMetropolis  salary  \n",
       "1222                 24                    5     225  \n",
       "27710                24                    3     246  \n",
       "31355                24                    0     225  \n",
       "100042               23                    8     248  \n",
       "160333               22                    3     223  \n",
       "303778               24                    2     226  \n",
       "348354               23                   25     226  \n",
       "500739               21                    0     227  \n",
       "627534               24                   29     230  \n",
       "645555               24                    1     225  \n",
       "685775               24                   13     225  \n",
       "743326               19                    0     236  \n",
       "787674               18                   15     232  \n",
       "796956               24                    2     228  \n",
       "855219               22                   26     225  \n",
       "954368               24                   26     223  "
      ]
     },
     "execution_count": 796,
     "metadata": {},
     "output_type": "execute_result"
    }
   ],
   "source": [
    "# Check most suspicious potential outliers above upper bound\n",
    "df_train[(df_train.salary > 222.5) & (df_train.jobType == 'JUNIOR')]"
   ]
  },
  {
   "cell_type": "markdown",
   "metadata": {},
   "source": [
    "There does not seem to be outliers on the upperbound as all the job description seeking Juniors paying salaries higher than the upper bound are all in high paying industries \"Finance\", \"Oil\" with high earning majors \"Engineering\", \"Business\" as well high earning degrees \"Masters\" \"Doctoral\".\n",
    "\n",
    "Thus we will only remove the salaries under the lower bound which are all at 0."
   ]
  },
  {
   "cell_type": "code",
   "execution_count": 797,
   "metadata": {},
   "outputs": [
    {
     "data": {
      "text/html": [
       "<div>\n",
       "<style scoped>\n",
       "    .dataframe tbody tr th:only-of-type {\n",
       "        vertical-align: middle;\n",
       "    }\n",
       "\n",
       "    .dataframe tbody tr th {\n",
       "        vertical-align: top;\n",
       "    }\n",
       "\n",
       "    .dataframe thead th {\n",
       "        text-align: right;\n",
       "    }\n",
       "</style>\n",
       "<table border=\"1\" class=\"dataframe\">\n",
       "  <thead>\n",
       "    <tr style=\"text-align: right;\">\n",
       "      <th></th>\n",
       "      <th>jobId</th>\n",
       "      <th>companyId</th>\n",
       "      <th>jobType</th>\n",
       "      <th>degree</th>\n",
       "      <th>major</th>\n",
       "      <th>industry</th>\n",
       "      <th>yearsExperience</th>\n",
       "      <th>milesFromMetropolis</th>\n",
       "      <th>salary</th>\n",
       "    </tr>\n",
       "  </thead>\n",
       "  <tbody>\n",
       "    <tr>\n",
       "      <th>0</th>\n",
       "      <td>JOB1362684407687</td>\n",
       "      <td>COMP37</td>\n",
       "      <td>CFO</td>\n",
       "      <td>MASTERS</td>\n",
       "      <td>MATH</td>\n",
       "      <td>HEALTH</td>\n",
       "      <td>10</td>\n",
       "      <td>83</td>\n",
       "      <td>130</td>\n",
       "    </tr>\n",
       "    <tr>\n",
       "      <th>1</th>\n",
       "      <td>JOB1362684407688</td>\n",
       "      <td>COMP19</td>\n",
       "      <td>CEO</td>\n",
       "      <td>HIGH_SCHOOL</td>\n",
       "      <td>NONE</td>\n",
       "      <td>WEB</td>\n",
       "      <td>3</td>\n",
       "      <td>73</td>\n",
       "      <td>101</td>\n",
       "    </tr>\n",
       "    <tr>\n",
       "      <th>2</th>\n",
       "      <td>JOB1362684407689</td>\n",
       "      <td>COMP52</td>\n",
       "      <td>VICE_PRESIDENT</td>\n",
       "      <td>DOCTORAL</td>\n",
       "      <td>PHYSICS</td>\n",
       "      <td>HEALTH</td>\n",
       "      <td>10</td>\n",
       "      <td>38</td>\n",
       "      <td>137</td>\n",
       "    </tr>\n",
       "    <tr>\n",
       "      <th>3</th>\n",
       "      <td>JOB1362684407690</td>\n",
       "      <td>COMP38</td>\n",
       "      <td>MANAGER</td>\n",
       "      <td>DOCTORAL</td>\n",
       "      <td>CHEMISTRY</td>\n",
       "      <td>AUTO</td>\n",
       "      <td>8</td>\n",
       "      <td>17</td>\n",
       "      <td>142</td>\n",
       "    </tr>\n",
       "    <tr>\n",
       "      <th>4</th>\n",
       "      <td>JOB1362684407691</td>\n",
       "      <td>COMP7</td>\n",
       "      <td>VICE_PRESIDENT</td>\n",
       "      <td>BACHELORS</td>\n",
       "      <td>PHYSICS</td>\n",
       "      <td>FINANCE</td>\n",
       "      <td>8</td>\n",
       "      <td>16</td>\n",
       "      <td>163</td>\n",
       "    </tr>\n",
       "    <tr>\n",
       "      <th>...</th>\n",
       "      <td>...</td>\n",
       "      <td>...</td>\n",
       "      <td>...</td>\n",
       "      <td>...</td>\n",
       "      <td>...</td>\n",
       "      <td>...</td>\n",
       "      <td>...</td>\n",
       "      <td>...</td>\n",
       "      <td>...</td>\n",
       "    </tr>\n",
       "    <tr>\n",
       "      <th>999995</th>\n",
       "      <td>JOB1362685407682</td>\n",
       "      <td>COMP56</td>\n",
       "      <td>VICE_PRESIDENT</td>\n",
       "      <td>BACHELORS</td>\n",
       "      <td>CHEMISTRY</td>\n",
       "      <td>HEALTH</td>\n",
       "      <td>19</td>\n",
       "      <td>94</td>\n",
       "      <td>88</td>\n",
       "    </tr>\n",
       "    <tr>\n",
       "      <th>999996</th>\n",
       "      <td>JOB1362685407683</td>\n",
       "      <td>COMP24</td>\n",
       "      <td>CTO</td>\n",
       "      <td>HIGH_SCHOOL</td>\n",
       "      <td>NONE</td>\n",
       "      <td>FINANCE</td>\n",
       "      <td>12</td>\n",
       "      <td>35</td>\n",
       "      <td>160</td>\n",
       "    </tr>\n",
       "    <tr>\n",
       "      <th>999997</th>\n",
       "      <td>JOB1362685407684</td>\n",
       "      <td>COMP23</td>\n",
       "      <td>JUNIOR</td>\n",
       "      <td>HIGH_SCHOOL</td>\n",
       "      <td>NONE</td>\n",
       "      <td>EDUCATION</td>\n",
       "      <td>16</td>\n",
       "      <td>81</td>\n",
       "      <td>64</td>\n",
       "    </tr>\n",
       "    <tr>\n",
       "      <th>999998</th>\n",
       "      <td>JOB1362685407685</td>\n",
       "      <td>COMP3</td>\n",
       "      <td>CFO</td>\n",
       "      <td>MASTERS</td>\n",
       "      <td>NONE</td>\n",
       "      <td>HEALTH</td>\n",
       "      <td>6</td>\n",
       "      <td>5</td>\n",
       "      <td>149</td>\n",
       "    </tr>\n",
       "    <tr>\n",
       "      <th>999999</th>\n",
       "      <td>JOB1362685407686</td>\n",
       "      <td>COMP59</td>\n",
       "      <td>JUNIOR</td>\n",
       "      <td>BACHELORS</td>\n",
       "      <td>NONE</td>\n",
       "      <td>EDUCATION</td>\n",
       "      <td>20</td>\n",
       "      <td>11</td>\n",
       "      <td>88</td>\n",
       "    </tr>\n",
       "  </tbody>\n",
       "</table>\n",
       "<p>999995 rows × 9 columns</p>\n",
       "</div>"
      ],
      "text/plain": [
       "                   jobId companyId         jobType       degree      major  \\\n",
       "0       JOB1362684407687    COMP37             CFO      MASTERS       MATH   \n",
       "1       JOB1362684407688    COMP19             CEO  HIGH_SCHOOL       NONE   \n",
       "2       JOB1362684407689    COMP52  VICE_PRESIDENT     DOCTORAL    PHYSICS   \n",
       "3       JOB1362684407690    COMP38         MANAGER     DOCTORAL  CHEMISTRY   \n",
       "4       JOB1362684407691     COMP7  VICE_PRESIDENT    BACHELORS    PHYSICS   \n",
       "...                  ...       ...             ...          ...        ...   \n",
       "999995  JOB1362685407682    COMP56  VICE_PRESIDENT    BACHELORS  CHEMISTRY   \n",
       "999996  JOB1362685407683    COMP24             CTO  HIGH_SCHOOL       NONE   \n",
       "999997  JOB1362685407684    COMP23          JUNIOR  HIGH_SCHOOL       NONE   \n",
       "999998  JOB1362685407685     COMP3             CFO      MASTERS       NONE   \n",
       "999999  JOB1362685407686    COMP59          JUNIOR    BACHELORS       NONE   \n",
       "\n",
       "         industry  yearsExperience  milesFromMetropolis  salary  \n",
       "0          HEALTH               10                   83     130  \n",
       "1             WEB                3                   73     101  \n",
       "2          HEALTH               10                   38     137  \n",
       "3            AUTO                8                   17     142  \n",
       "4         FINANCE                8                   16     163  \n",
       "...           ...              ...                  ...     ...  \n",
       "999995     HEALTH               19                   94      88  \n",
       "999996    FINANCE               12                   35     160  \n",
       "999997  EDUCATION               16                   81      64  \n",
       "999998     HEALTH                6                    5     149  \n",
       "999999  EDUCATION               20                   11      88  \n",
       "\n",
       "[999995 rows x 9 columns]"
      ]
     },
     "execution_count": 797,
     "metadata": {},
     "output_type": "execute_result"
    }
   ],
   "source": [
    "df_train = df_train[df_train.salary > 8.5]\n",
    "df_train"
   ]
  },
  {
   "cell_type": "markdown",
   "metadata": {},
   "source": [
    "We notice that we now have 999,995 rows as we deleted the 5 columns with 0 salary\n",
    "we want to reset the index and then our database will be cleaned"
   ]
  },
  {
   "cell_type": "code",
   "execution_count": 798,
   "metadata": {},
   "outputs": [
    {
     "data": {
      "text/html": [
       "<div>\n",
       "<style scoped>\n",
       "    .dataframe tbody tr th:only-of-type {\n",
       "        vertical-align: middle;\n",
       "    }\n",
       "\n",
       "    .dataframe tbody tr th {\n",
       "        vertical-align: top;\n",
       "    }\n",
       "\n",
       "    .dataframe thead th {\n",
       "        text-align: right;\n",
       "    }\n",
       "</style>\n",
       "<table border=\"1\" class=\"dataframe\">\n",
       "  <thead>\n",
       "    <tr style=\"text-align: right;\">\n",
       "      <th></th>\n",
       "      <th>jobId</th>\n",
       "      <th>companyId</th>\n",
       "      <th>jobType</th>\n",
       "      <th>degree</th>\n",
       "      <th>major</th>\n",
       "      <th>industry</th>\n",
       "      <th>yearsExperience</th>\n",
       "      <th>milesFromMetropolis</th>\n",
       "      <th>salary</th>\n",
       "    </tr>\n",
       "  </thead>\n",
       "  <tbody>\n",
       "    <tr>\n",
       "      <th>0</th>\n",
       "      <td>JOB1362684407687</td>\n",
       "      <td>COMP37</td>\n",
       "      <td>CFO</td>\n",
       "      <td>MASTERS</td>\n",
       "      <td>MATH</td>\n",
       "      <td>HEALTH</td>\n",
       "      <td>10</td>\n",
       "      <td>83</td>\n",
       "      <td>130</td>\n",
       "    </tr>\n",
       "    <tr>\n",
       "      <th>1</th>\n",
       "      <td>JOB1362684407688</td>\n",
       "      <td>COMP19</td>\n",
       "      <td>CEO</td>\n",
       "      <td>HIGH_SCHOOL</td>\n",
       "      <td>NONE</td>\n",
       "      <td>WEB</td>\n",
       "      <td>3</td>\n",
       "      <td>73</td>\n",
       "      <td>101</td>\n",
       "    </tr>\n",
       "    <tr>\n",
       "      <th>2</th>\n",
       "      <td>JOB1362684407689</td>\n",
       "      <td>COMP52</td>\n",
       "      <td>VICE_PRESIDENT</td>\n",
       "      <td>DOCTORAL</td>\n",
       "      <td>PHYSICS</td>\n",
       "      <td>HEALTH</td>\n",
       "      <td>10</td>\n",
       "      <td>38</td>\n",
       "      <td>137</td>\n",
       "    </tr>\n",
       "    <tr>\n",
       "      <th>3</th>\n",
       "      <td>JOB1362684407690</td>\n",
       "      <td>COMP38</td>\n",
       "      <td>MANAGER</td>\n",
       "      <td>DOCTORAL</td>\n",
       "      <td>CHEMISTRY</td>\n",
       "      <td>AUTO</td>\n",
       "      <td>8</td>\n",
       "      <td>17</td>\n",
       "      <td>142</td>\n",
       "    </tr>\n",
       "    <tr>\n",
       "      <th>4</th>\n",
       "      <td>JOB1362684407691</td>\n",
       "      <td>COMP7</td>\n",
       "      <td>VICE_PRESIDENT</td>\n",
       "      <td>BACHELORS</td>\n",
       "      <td>PHYSICS</td>\n",
       "      <td>FINANCE</td>\n",
       "      <td>8</td>\n",
       "      <td>16</td>\n",
       "      <td>163</td>\n",
       "    </tr>\n",
       "    <tr>\n",
       "      <th>...</th>\n",
       "      <td>...</td>\n",
       "      <td>...</td>\n",
       "      <td>...</td>\n",
       "      <td>...</td>\n",
       "      <td>...</td>\n",
       "      <td>...</td>\n",
       "      <td>...</td>\n",
       "      <td>...</td>\n",
       "      <td>...</td>\n",
       "    </tr>\n",
       "    <tr>\n",
       "      <th>999990</th>\n",
       "      <td>JOB1362685407682</td>\n",
       "      <td>COMP56</td>\n",
       "      <td>VICE_PRESIDENT</td>\n",
       "      <td>BACHELORS</td>\n",
       "      <td>CHEMISTRY</td>\n",
       "      <td>HEALTH</td>\n",
       "      <td>19</td>\n",
       "      <td>94</td>\n",
       "      <td>88</td>\n",
       "    </tr>\n",
       "    <tr>\n",
       "      <th>999991</th>\n",
       "      <td>JOB1362685407683</td>\n",
       "      <td>COMP24</td>\n",
       "      <td>CTO</td>\n",
       "      <td>HIGH_SCHOOL</td>\n",
       "      <td>NONE</td>\n",
       "      <td>FINANCE</td>\n",
       "      <td>12</td>\n",
       "      <td>35</td>\n",
       "      <td>160</td>\n",
       "    </tr>\n",
       "    <tr>\n",
       "      <th>999992</th>\n",
       "      <td>JOB1362685407684</td>\n",
       "      <td>COMP23</td>\n",
       "      <td>JUNIOR</td>\n",
       "      <td>HIGH_SCHOOL</td>\n",
       "      <td>NONE</td>\n",
       "      <td>EDUCATION</td>\n",
       "      <td>16</td>\n",
       "      <td>81</td>\n",
       "      <td>64</td>\n",
       "    </tr>\n",
       "    <tr>\n",
       "      <th>999993</th>\n",
       "      <td>JOB1362685407685</td>\n",
       "      <td>COMP3</td>\n",
       "      <td>CFO</td>\n",
       "      <td>MASTERS</td>\n",
       "      <td>NONE</td>\n",
       "      <td>HEALTH</td>\n",
       "      <td>6</td>\n",
       "      <td>5</td>\n",
       "      <td>149</td>\n",
       "    </tr>\n",
       "    <tr>\n",
       "      <th>999994</th>\n",
       "      <td>JOB1362685407686</td>\n",
       "      <td>COMP59</td>\n",
       "      <td>JUNIOR</td>\n",
       "      <td>BACHELORS</td>\n",
       "      <td>NONE</td>\n",
       "      <td>EDUCATION</td>\n",
       "      <td>20</td>\n",
       "      <td>11</td>\n",
       "      <td>88</td>\n",
       "    </tr>\n",
       "  </tbody>\n",
       "</table>\n",
       "<p>999995 rows × 9 columns</p>\n",
       "</div>"
      ],
      "text/plain": [
       "                   jobId companyId         jobType       degree      major  \\\n",
       "0       JOB1362684407687    COMP37             CFO      MASTERS       MATH   \n",
       "1       JOB1362684407688    COMP19             CEO  HIGH_SCHOOL       NONE   \n",
       "2       JOB1362684407689    COMP52  VICE_PRESIDENT     DOCTORAL    PHYSICS   \n",
       "3       JOB1362684407690    COMP38         MANAGER     DOCTORAL  CHEMISTRY   \n",
       "4       JOB1362684407691     COMP7  VICE_PRESIDENT    BACHELORS    PHYSICS   \n",
       "...                  ...       ...             ...          ...        ...   \n",
       "999990  JOB1362685407682    COMP56  VICE_PRESIDENT    BACHELORS  CHEMISTRY   \n",
       "999991  JOB1362685407683    COMP24             CTO  HIGH_SCHOOL       NONE   \n",
       "999992  JOB1362685407684    COMP23          JUNIOR  HIGH_SCHOOL       NONE   \n",
       "999993  JOB1362685407685     COMP3             CFO      MASTERS       NONE   \n",
       "999994  JOB1362685407686    COMP59          JUNIOR    BACHELORS       NONE   \n",
       "\n",
       "         industry  yearsExperience  milesFromMetropolis  salary  \n",
       "0          HEALTH               10                   83     130  \n",
       "1             WEB                3                   73     101  \n",
       "2          HEALTH               10                   38     137  \n",
       "3            AUTO                8                   17     142  \n",
       "4         FINANCE                8                   16     163  \n",
       "...           ...              ...                  ...     ...  \n",
       "999990     HEALTH               19                   94      88  \n",
       "999991    FINANCE               12                   35     160  \n",
       "999992  EDUCATION               16                   81      64  \n",
       "999993     HEALTH                6                    5     149  \n",
       "999994  EDUCATION               20                   11      88  \n",
       "\n",
       "[999995 rows x 9 columns]"
      ]
     },
     "execution_count": 798,
     "metadata": {},
     "output_type": "execute_result"
    }
   ],
   "source": [
    "df_train = df_train.reset_index() #reset index after deleting multiple rows\n",
    "df_train = df_train.drop(df_train.columns[0], axis = 'columns') #delete index columns dans comes from resetting index\n",
    "df_train"
   ]
  },
  {
   "cell_type": "markdown",
   "metadata": {},
   "source": [
    "### ---- 4 Explore the data (EDA) ----"
   ]
  },
  {
   "cell_type": "markdown",
   "metadata": {},
   "source": [
    "We will have another describe to see the types of the categories too (can also be optained with df_train.dtypes())"
   ]
  },
  {
   "cell_type": "code",
   "execution_count": 799,
   "metadata": {},
   "outputs": [
    {
     "data": {
      "text/html": [
       "<div>\n",
       "<style scoped>\n",
       "    .dataframe tbody tr th:only-of-type {\n",
       "        vertical-align: middle;\n",
       "    }\n",
       "\n",
       "    .dataframe tbody tr th {\n",
       "        vertical-align: top;\n",
       "    }\n",
       "\n",
       "    .dataframe thead th {\n",
       "        text-align: right;\n",
       "    }\n",
       "</style>\n",
       "<table border=\"1\" class=\"dataframe\">\n",
       "  <thead>\n",
       "    <tr style=\"text-align: right;\">\n",
       "      <th></th>\n",
       "      <th>yearsExperience</th>\n",
       "      <th>milesFromMetropolis</th>\n",
       "      <th>salary</th>\n",
       "    </tr>\n",
       "  </thead>\n",
       "  <tbody>\n",
       "    <tr>\n",
       "      <th>count</th>\n",
       "      <td>999995.000000</td>\n",
       "      <td>999995.000000</td>\n",
       "      <td>999995.000000</td>\n",
       "    </tr>\n",
       "    <tr>\n",
       "      <th>mean</th>\n",
       "      <td>11.992407</td>\n",
       "      <td>49.529381</td>\n",
       "      <td>116.062398</td>\n",
       "    </tr>\n",
       "    <tr>\n",
       "      <th>std</th>\n",
       "      <td>7.212390</td>\n",
       "      <td>28.877721</td>\n",
       "      <td>38.717163</td>\n",
       "    </tr>\n",
       "    <tr>\n",
       "      <th>min</th>\n",
       "      <td>0.000000</td>\n",
       "      <td>0.000000</td>\n",
       "      <td>17.000000</td>\n",
       "    </tr>\n",
       "    <tr>\n",
       "      <th>25%</th>\n",
       "      <td>6.000000</td>\n",
       "      <td>25.000000</td>\n",
       "      <td>88.000000</td>\n",
       "    </tr>\n",
       "    <tr>\n",
       "      <th>50%</th>\n",
       "      <td>12.000000</td>\n",
       "      <td>50.000000</td>\n",
       "      <td>114.000000</td>\n",
       "    </tr>\n",
       "    <tr>\n",
       "      <th>75%</th>\n",
       "      <td>18.000000</td>\n",
       "      <td>75.000000</td>\n",
       "      <td>141.000000</td>\n",
       "    </tr>\n",
       "    <tr>\n",
       "      <th>max</th>\n",
       "      <td>24.000000</td>\n",
       "      <td>99.000000</td>\n",
       "      <td>301.000000</td>\n",
       "    </tr>\n",
       "  </tbody>\n",
       "</table>\n",
       "</div>"
      ],
      "text/plain": [
       "       yearsExperience  milesFromMetropolis         salary\n",
       "count    999995.000000        999995.000000  999995.000000\n",
       "mean         11.992407            49.529381     116.062398\n",
       "std           7.212390            28.877721      38.717163\n",
       "min           0.000000             0.000000      17.000000\n",
       "25%           6.000000            25.000000      88.000000\n",
       "50%          12.000000            50.000000     114.000000\n",
       "75%          18.000000            75.000000     141.000000\n",
       "max          24.000000            99.000000     301.000000"
      ]
     },
     "execution_count": 799,
     "metadata": {},
     "output_type": "execute_result"
    }
   ],
   "source": [
    "df_train.describe()"
   ]
  },
  {
   "cell_type": "code",
   "execution_count": 800,
   "metadata": {},
   "outputs": [
    {
     "data": {
      "text/html": [
       "<div>\n",
       "<style scoped>\n",
       "    .dataframe tbody tr th:only-of-type {\n",
       "        vertical-align: middle;\n",
       "    }\n",
       "\n",
       "    .dataframe tbody tr th {\n",
       "        vertical-align: top;\n",
       "    }\n",
       "\n",
       "    .dataframe thead th {\n",
       "        text-align: right;\n",
       "    }\n",
       "</style>\n",
       "<table border=\"1\" class=\"dataframe\">\n",
       "  <thead>\n",
       "    <tr style=\"text-align: right;\">\n",
       "      <th></th>\n",
       "      <th>jobId</th>\n",
       "      <th>companyId</th>\n",
       "      <th>jobType</th>\n",
       "      <th>degree</th>\n",
       "      <th>major</th>\n",
       "      <th>industry</th>\n",
       "    </tr>\n",
       "  </thead>\n",
       "  <tbody>\n",
       "    <tr>\n",
       "      <th>count</th>\n",
       "      <td>999995</td>\n",
       "      <td>999995</td>\n",
       "      <td>999995</td>\n",
       "      <td>999995</td>\n",
       "      <td>999995</td>\n",
       "      <td>999995</td>\n",
       "    </tr>\n",
       "    <tr>\n",
       "      <th>unique</th>\n",
       "      <td>999995</td>\n",
       "      <td>63</td>\n",
       "      <td>8</td>\n",
       "      <td>5</td>\n",
       "      <td>9</td>\n",
       "      <td>7</td>\n",
       "    </tr>\n",
       "    <tr>\n",
       "      <th>top</th>\n",
       "      <td>JOB1362684566745</td>\n",
       "      <td>COMP39</td>\n",
       "      <td>SENIOR</td>\n",
       "      <td>HIGH_SCHOOL</td>\n",
       "      <td>NONE</td>\n",
       "      <td>WEB</td>\n",
       "    </tr>\n",
       "    <tr>\n",
       "      <th>freq</th>\n",
       "      <td>1</td>\n",
       "      <td>16193</td>\n",
       "      <td>125886</td>\n",
       "      <td>236975</td>\n",
       "      <td>532353</td>\n",
       "      <td>143205</td>\n",
       "    </tr>\n",
       "  </tbody>\n",
       "</table>\n",
       "</div>"
      ],
      "text/plain": [
       "                   jobId companyId jobType       degree   major industry\n",
       "count             999995    999995  999995       999995  999995   999995\n",
       "unique            999995        63       8            5       9        7\n",
       "top     JOB1362684566745    COMP39  SENIOR  HIGH_SCHOOL    NONE      WEB\n",
       "freq                   1     16193  125886       236975  532353   143205"
      ]
     },
     "execution_count": 800,
     "metadata": {},
     "output_type": "execute_result"
    }
   ],
   "source": [
    "df_train.describe(include = 'O')"
   ]
  },
  {
   "cell_type": "code",
   "execution_count": 801,
   "metadata": {},
   "outputs": [
    {
     "data": {
      "image/png": "[encoded data removed]",
      "text/plain": [
       "<Figure size 432x288 with 2 Axes>"
      ]
     },
     "metadata": {
      "needs_background": "light"
     },
     "output_type": "display_data"
    }
   ],
   "source": [
    "#Analyze numerical features individually\n",
    "viz = df_train[['yearsExperience','milesFromMetropolis']]\n",
    "viz.hist()\n",
    "plt.show()"
   ]
  },
  {
   "cell_type": "markdown",
   "metadata": {},
   "source": [
    "For our two numerical features, we notice first at milesFromMetropolis, binned by 10s, that their are as many job descriptions 100k for all the bins from the metropolis while yearExperidnce in bins of 2 ranges from 120k to 80k per bin for each one.\n",
    "We will now look at the frequency tables for some of our category variables - jobType, degree, major, industry as company ID as to many unique values"
   ]
  },
  {
   "cell_type": "code",
   "execution_count": 802,
   "metadata": {},
   "outputs": [
    {
     "data": {
      "text/html": [
       "<div>\n",
       "<style scoped>\n",
       "    .dataframe tbody tr th:only-of-type {\n",
       "        vertical-align: middle;\n",
       "    }\n",
       "\n",
       "    .dataframe tbody tr th {\n",
       "        vertical-align: top;\n",
       "    }\n",
       "\n",
       "    .dataframe thead th {\n",
       "        text-align: right;\n",
       "    }\n",
       "</style>\n",
       "<table border=\"1\" class=\"dataframe\">\n",
       "  <thead>\n",
       "    <tr style=\"text-align: right;\">\n",
       "      <th></th>\n",
       "      <th>value_counts</th>\n",
       "    </tr>\n",
       "    <tr>\n",
       "      <th>jobType</th>\n",
       "      <th></th>\n",
       "    </tr>\n",
       "  </thead>\n",
       "  <tbody>\n",
       "    <tr>\n",
       "      <th>SENIOR</th>\n",
       "      <td>125886</td>\n",
       "    </tr>\n",
       "    <tr>\n",
       "      <th>VICE_PRESIDENT</th>\n",
       "      <td>125234</td>\n",
       "    </tr>\n",
       "    <tr>\n",
       "      <th>MANAGER</th>\n",
       "      <td>125120</td>\n",
       "    </tr>\n",
       "    <tr>\n",
       "      <th>CTO</th>\n",
       "      <td>125045</td>\n",
       "    </tr>\n",
       "    <tr>\n",
       "      <th>JANITOR</th>\n",
       "      <td>124971</td>\n",
       "    </tr>\n",
       "    <tr>\n",
       "      <th>CEO</th>\n",
       "      <td>124778</td>\n",
       "    </tr>\n",
       "    <tr>\n",
       "      <th>JUNIOR</th>\n",
       "      <td>124592</td>\n",
       "    </tr>\n",
       "    <tr>\n",
       "      <th>CFO</th>\n",
       "      <td>124369</td>\n",
       "    </tr>\n",
       "  </tbody>\n",
       "</table>\n",
       "</div>"
      ],
      "text/plain": [
       "                value_counts\n",
       "jobType                     \n",
       "SENIOR                125886\n",
       "VICE_PRESIDENT        125234\n",
       "MANAGER               125120\n",
       "CTO                   125045\n",
       "JANITOR               124971\n",
       "CEO                   124778\n",
       "JUNIOR                124592\n",
       "CFO                   124369"
      ]
     },
     "execution_count": 802,
     "metadata": {},
     "output_type": "execute_result"
    }
   ],
   "source": [
    "#Analyze categeroical features individually\n",
    "#jobtype\n",
    "jobType_counts = df_train['jobType'].value_counts().to_frame()\n",
    "jobType_counts.rename(columns={'jobType': 'value_counts'}, inplace=True)\n",
    "jobType_counts.index.name = 'jobType'\n",
    "jobType_counts"
   ]
  },
  {
   "cell_type": "code",
   "execution_count": 803,
   "metadata": {},
   "outputs": [
    {
     "data": {
      "text/html": [
       "<div>\n",
       "<style scoped>\n",
       "    .dataframe tbody tr th:only-of-type {\n",
       "        vertical-align: middle;\n",
       "    }\n",
       "\n",
       "    .dataframe tbody tr th {\n",
       "        vertical-align: top;\n",
       "    }\n",
       "\n",
       "    .dataframe thead th {\n",
       "        text-align: right;\n",
       "    }\n",
       "</style>\n",
       "<table border=\"1\" class=\"dataframe\">\n",
       "  <thead>\n",
       "    <tr style=\"text-align: right;\">\n",
       "      <th></th>\n",
       "      <th>value_counts</th>\n",
       "    </tr>\n",
       "    <tr>\n",
       "      <th>degree</th>\n",
       "      <th></th>\n",
       "    </tr>\n",
       "  </thead>\n",
       "  <tbody>\n",
       "    <tr>\n",
       "      <th>HIGH_SCHOOL</th>\n",
       "      <td>236975</td>\n",
       "    </tr>\n",
       "    <tr>\n",
       "      <th>NONE</th>\n",
       "      <td>236853</td>\n",
       "    </tr>\n",
       "    <tr>\n",
       "      <th>BACHELORS</th>\n",
       "      <td>175495</td>\n",
       "    </tr>\n",
       "    <tr>\n",
       "      <th>DOCTORAL</th>\n",
       "      <td>175362</td>\n",
       "    </tr>\n",
       "    <tr>\n",
       "      <th>MASTERS</th>\n",
       "      <td>175310</td>\n",
       "    </tr>\n",
       "  </tbody>\n",
       "</table>\n",
       "</div>"
      ],
      "text/plain": [
       "             value_counts\n",
       "degree                   \n",
       "HIGH_SCHOOL        236975\n",
       "NONE               236853\n",
       "BACHELORS          175495\n",
       "DOCTORAL           175362\n",
       "MASTERS            175310"
      ]
     },
     "execution_count": 803,
     "metadata": {},
     "output_type": "execute_result"
    }
   ],
   "source": [
    "#Analyze categeroical features individually\n",
    "#degree\n",
    "degree_counts = df_train['degree'].value_counts().to_frame()\n",
    "degree_counts.rename(columns={'degree': 'value_counts'}, inplace=True)\n",
    "degree_counts.index.name = 'degree'\n",
    "degree_counts"
   ]
  },
  {
   "cell_type": "code",
   "execution_count": 804,
   "metadata": {},
   "outputs": [
    {
     "data": {
      "text/html": [
       "<div>\n",
       "<style scoped>\n",
       "    .dataframe tbody tr th:only-of-type {\n",
       "        vertical-align: middle;\n",
       "    }\n",
       "\n",
       "    .dataframe tbody tr th {\n",
       "        vertical-align: top;\n",
       "    }\n",
       "\n",
       "    .dataframe thead th {\n",
       "        text-align: right;\n",
       "    }\n",
       "</style>\n",
       "<table border=\"1\" class=\"dataframe\">\n",
       "  <thead>\n",
       "    <tr style=\"text-align: right;\">\n",
       "      <th></th>\n",
       "      <th>value_counts</th>\n",
       "    </tr>\n",
       "    <tr>\n",
       "      <th>major</th>\n",
       "      <th></th>\n",
       "    </tr>\n",
       "  </thead>\n",
       "  <tbody>\n",
       "    <tr>\n",
       "      <th>NONE</th>\n",
       "      <td>532353</td>\n",
       "    </tr>\n",
       "    <tr>\n",
       "      <th>CHEMISTRY</th>\n",
       "      <td>58875</td>\n",
       "    </tr>\n",
       "    <tr>\n",
       "      <th>LITERATURE</th>\n",
       "      <td>58684</td>\n",
       "    </tr>\n",
       "    <tr>\n",
       "      <th>ENGINEERING</th>\n",
       "      <td>58594</td>\n",
       "    </tr>\n",
       "    <tr>\n",
       "      <th>BUSINESS</th>\n",
       "      <td>58518</td>\n",
       "    </tr>\n",
       "    <tr>\n",
       "      <th>PHYSICS</th>\n",
       "      <td>58410</td>\n",
       "    </tr>\n",
       "    <tr>\n",
       "      <th>COMPSCI</th>\n",
       "      <td>58382</td>\n",
       "    </tr>\n",
       "    <tr>\n",
       "      <th>BIOLOGY</th>\n",
       "      <td>58379</td>\n",
       "    </tr>\n",
       "    <tr>\n",
       "      <th>MATH</th>\n",
       "      <td>57800</td>\n",
       "    </tr>\n",
       "  </tbody>\n",
       "</table>\n",
       "</div>"
      ],
      "text/plain": [
       "             value_counts\n",
       "major                    \n",
       "NONE               532353\n",
       "CHEMISTRY           58875\n",
       "LITERATURE          58684\n",
       "ENGINEERING         58594\n",
       "BUSINESS            58518\n",
       "PHYSICS             58410\n",
       "COMPSCI             58382\n",
       "BIOLOGY             58379\n",
       "MATH                57800"
      ]
     },
     "execution_count": 804,
     "metadata": {},
     "output_type": "execute_result"
    }
   ],
   "source": [
    "#Analyze categeroical features individually\n",
    "#major\n",
    "major_counts = df_train['major'].value_counts().to_frame()\n",
    "major_counts.rename(columns={'major': 'value_counts'}, inplace=True)\n",
    "major_counts.index.name = 'major'\n",
    "major_counts"
   ]
  },
  {
   "cell_type": "code",
   "execution_count": 805,
   "metadata": {},
   "outputs": [
    {
     "data": {
      "text/html": [
       "<div>\n",
       "<style scoped>\n",
       "    .dataframe tbody tr th:only-of-type {\n",
       "        vertical-align: middle;\n",
       "    }\n",
       "\n",
       "    .dataframe tbody tr th {\n",
       "        vertical-align: top;\n",
       "    }\n",
       "\n",
       "    .dataframe thead th {\n",
       "        text-align: right;\n",
       "    }\n",
       "</style>\n",
       "<table border=\"1\" class=\"dataframe\">\n",
       "  <thead>\n",
       "    <tr style=\"text-align: right;\">\n",
       "      <th></th>\n",
       "      <th>value_counts</th>\n",
       "    </tr>\n",
       "    <tr>\n",
       "      <th>industry</th>\n",
       "      <th></th>\n",
       "    </tr>\n",
       "  </thead>\n",
       "  <tbody>\n",
       "    <tr>\n",
       "      <th>WEB</th>\n",
       "      <td>143205</td>\n",
       "    </tr>\n",
       "    <tr>\n",
       "      <th>AUTO</th>\n",
       "      <td>142941</td>\n",
       "    </tr>\n",
       "    <tr>\n",
       "      <th>FINANCE</th>\n",
       "      <td>142866</td>\n",
       "    </tr>\n",
       "    <tr>\n",
       "      <th>EDUCATION</th>\n",
       "      <td>142819</td>\n",
       "    </tr>\n",
       "    <tr>\n",
       "      <th>OIL</th>\n",
       "      <td>142770</td>\n",
       "    </tr>\n",
       "    <tr>\n",
       "      <th>HEALTH</th>\n",
       "      <td>142755</td>\n",
       "    </tr>\n",
       "    <tr>\n",
       "      <th>SERVICE</th>\n",
       "      <td>142639</td>\n",
       "    </tr>\n",
       "  </tbody>\n",
       "</table>\n",
       "</div>"
      ],
      "text/plain": [
       "           value_counts\n",
       "industry               \n",
       "WEB              143205\n",
       "AUTO             142941\n",
       "FINANCE          142866\n",
       "EDUCATION        142819\n",
       "OIL              142770\n",
       "HEALTH           142755\n",
       "SERVICE          142639"
      ]
     },
     "execution_count": 805,
     "metadata": {},
     "output_type": "execute_result"
    }
   ],
   "source": [
    "industry_counts = df_train['industry'].value_counts().to_frame()\n",
    "industry_counts.rename(columns={'industry': 'value_counts'}, inplace=True)\n",
    "industry_counts.index.name = 'industry'\n",
    "industry_counts"
   ]
  },
  {
   "cell_type": "markdown",
   "metadata": {},
   "source": [
    "As previously theorized, categories for our categorical features have around the same value_counts by category for job types around 125k job descriptions per. It is the same for the industry as we have around 143k job describtion per industry. \n",
    "For the other two categories there are some differences but most of the counts are the same per category and will create different groups (the degree category, one group has no degree or only a high school degree requirements(232k each while the other group requires you at minimum to go to college (175k each) -  the first group will not require a major as a result as well for the major requirement and thus that specific category is higher than the other majors that are all at 50k job descriptions per."
   ]
  },
  {
   "cell_type": "markdown",
   "metadata": {},
   "source": [
    "#### Visualize target variable - salary"
   ]
  },
  {
   "cell_type": "code",
   "execution_count": 806,
   "metadata": {},
   "outputs": [
    {
     "data": {
      "text/plain": [
       "<matplotlib.axes._subplots.AxesSubplot at 0x7fbd8a8d9090>"
      ]
     },
     "execution_count": 806,
     "metadata": {},
     "output_type": "execute_result"
    },
    {
     "data": {
      "image/png": "[encoded data removed]",
      "text/plain": [
       "<Figure size 432x288 with 1 Axes>"
      ]
     },
     "metadata": {
      "needs_background": "light"
     },
     "output_type": "display_data"
    }
   ],
   "source": [
    "sns.boxplot(df_train.salary)"
   ]
  },
  {
   "cell_type": "markdown",
   "metadata": {},
   "source": [
    "We can see we that we got rid of all our outliers under the lower bound and we theorize a right skew with the data seeming to elongate to the right"
   ]
  },
  {
   "cell_type": "code",
   "execution_count": 807,
   "metadata": {},
   "outputs": [
    {
     "data": {
      "text/plain": [
       "<matplotlib.axes._subplots.AxesSubplot at 0x7fbdb415ffd0>"
      ]
     },
     "execution_count": 807,
     "metadata": {},
     "output_type": "execute_result"
    },
    {
     "data": {
      "image/png": "[encoded data removed]",
      "text/plain": [
       "<Figure size 432x288 with 1 Axes>"
      ]
     },
     "metadata": {
      "needs_background": "light"
     },
     "output_type": "display_data"
    }
   ],
   "source": [
    "sns.distplot(df_train.salary, bins=20)"
   ]
  },
  {
   "cell_type": "markdown",
   "metadata": {},
   "source": [
    "There is a slight right skew"
   ]
  },
  {
   "cell_type": "markdown",
   "metadata": {},
   "source": [
    "#### Analyze feature variable with target variable"
   ]
  },
  {
   "cell_type": "markdown",
   "metadata": {},
   "source": [
    "First numerical variables, i want to see hoow the variables intereact with the target variable, we will then get pearsons correlation for both of them. Since they are continuous integers over a range and it is a massive database instead of doing a scatterplot and fit a line through it, i will be plotting their means  and fit a line through that as well as their standars deviations which will be filled in."
   ]
  },
  {
   "cell_type": "code",
   "execution_count": 808,
   "metadata": {},
   "outputs": [
    {
     "data": {
      "image/png": "[encoded data removed]",
      "text/plain": [
       "<Figure size 432x288 with 1 Axes>"
      ]
     },
     "metadata": {
      "needs_background": "light"
     },
     "output_type": "display_data"
    }
   ],
   "source": [
    "mean = df_train.groupby(\"milesFromMetropolis\")['salary'].mean()\n",
    "std = df_train.groupby(\"milesFromMetropolis\")['salary'].std()\n",
    "mean.plot()\n",
    "plt.fill_between(range(len(std.index)), mean.values-std.values, mean.values + std.values, \\\n",
    "                 alpha = 0.1)\n",
    "plt.xticks(rotation=45)\n",
    "plt.ylabel('Salaries')\n",
    "plt.show()"
   ]
  },
  {
   "cell_type": "markdown",
   "metadata": {},
   "source": [
    "It seems like it is a moderate/ weak negative correlation. Let's see what the Pearson coefficient is as well as the p-value to see if that correlation is statistically siginificant."
   ]
  },
  {
   "cell_type": "code",
   "execution_count": 809,
   "metadata": {},
   "outputs": [
    {
     "name": "stdout",
     "output_type": "stream",
     "text": [
      "The Pearson Correlation Coefficient is -0.29768642704964454  with a P-value of P = 0.0\n"
     ]
    }
   ],
   "source": [
    "pearson_coef, p_value = stats.pearsonr(df_train['milesFromMetropolis'], df_train['salary'])\n",
    "print(\"The Pearson Correlation Coefficient is\", pearson_coef, \" with a P-value of P =\", p_value)"
   ]
  },
  {
   "cell_type": "markdown",
   "metadata": {},
   "source": [
    "Since the p-value is < 0.001, the correlation between milesFromMetropolis and salary is statistically significant, although the linear relationship isn't extremely strong (~-0.297)"
   ]
  },
  {
   "cell_type": "code",
   "execution_count": 810,
   "metadata": {},
   "outputs": [
    {
     "data": {
      "image/png": "[encoded data removed]",
      "text/plain": [
       "<Figure size 432x288 with 1 Axes>"
      ]
     },
     "metadata": {
      "needs_background": "light"
     },
     "output_type": "display_data"
    }
   ],
   "source": [
    "mean = df_train.groupby('yearsExperience')['salary'].mean()\n",
    "std = df_train.groupby('yearsExperience')['salary'].std()\n",
    "mean.plot()\n",
    "plt.fill_between(range(len(std.index)), mean.values-std.values, mean.values + std.values, \\\n",
    "                         alpha = 0.1)\n",
    "plt.xticks(rotation=45)\n",
    "plt.ylabel('Salaries')\n",
    "plt.show()"
   ]
  },
  {
   "cell_type": "markdown",
   "metadata": {},
   "source": [
    "It seems like it is a positive correlation. "
   ]
  },
  {
   "cell_type": "code",
   "execution_count": 811,
   "metadata": {},
   "outputs": [
    {
     "name": "stdout",
     "output_type": "stream",
     "text": [
      "The Pearson Correlation Coefficient is 0.37501340199972  with a P-value of P = 0.0\n"
     ]
    }
   ],
   "source": [
    "pearson_coef, p_value = stats.pearsonr(df_train['yearsExperience'], df_train['salary'])\n",
    "print(\"The Pearson Correlation Coefficient is\", pearson_coef, \" with a P-value of P =\", p_value)"
   ]
  },
  {
   "cell_type": "markdown",
   "metadata": {},
   "source": [
    "Since the p-value is < 0.001, the correlation between yearsExperience and salary is statistically significant, although the linear relationship isn't extremely strong (~0.375)"
   ]
  },
  {
   "cell_type": "markdown",
   "metadata": {},
   "source": [
    "We now do the same for companyId as it has too many unique categories to be observed by category \n"
   ]
  },
  {
   "cell_type": "code",
   "execution_count": 812,
   "metadata": {},
   "outputs": [
    {
     "data": {
      "image/png": "[encoded data removed]",
      "text/plain": [
       "<Figure size 432x288 with 1 Axes>"
      ]
     },
     "metadata": {
      "needs_background": "light"
     },
     "output_type": "display_data"
    }
   ],
   "source": [
    "mean = df_train.groupby('companyId')['salary'].mean()\n",
    "std = df_train.groupby('companyId')['salary'].std()\n",
    "mean.plot()\n",
    "plt.fill_between(range(len(std.index)), mean.values-std.values, mean.values + std.values, \\\n",
    "                         alpha = 0.1)\n",
    "plt.xticks(rotation=45)\n",
    "plt.ylabel('Salaries')\n",
    "plt.show()"
   ]
  },
  {
   "cell_type": "code",
   "execution_count": 813,
   "metadata": {},
   "outputs": [
    {
     "data": {
      "text/plain": [
       "companyId\n",
       "COMP0     115.963615\n",
       "COMP1     116.048609\n",
       "COMP10    116.019800\n",
       "COMP11    116.113029\n",
       "COMP12    116.086485\n",
       "             ...    \n",
       "COMP61    116.318607\n",
       "COMP62    116.279872\n",
       "COMP7     115.888501\n",
       "COMP8     115.989641\n",
       "COMP9     116.453340\n",
       "Name: salary, Length: 63, dtype: float64"
      ]
     },
     "execution_count": 813,
     "metadata": {},
     "output_type": "execute_result"
    }
   ],
   "source": [
    "mean"
   ]
  },
  {
   "cell_type": "markdown",
   "metadata": {},
   "source": [
    "It does noot seem to be statistically significant if we look at the means they are all similar so we assume there is a very weak correlation between companyID and salary."
   ]
  },
  {
   "cell_type": "markdown",
   "metadata": {},
   "source": [
    "We can do an analysis of Variance (ANOVA) to confirm that more, since we have 63 unique values doing it with 10 will still yield a statistical significant result"
   ]
  },
  {
   "cell_type": "code",
   "execution_count": 814,
   "metadata": {},
   "outputs": [
    {
     "data": {
      "text/html": [
       "<div>\n",
       "<style scoped>\n",
       "    .dataframe tbody tr th:only-of-type {\n",
       "        vertical-align: middle;\n",
       "    }\n",
       "\n",
       "    .dataframe tbody tr th {\n",
       "        vertical-align: top;\n",
       "    }\n",
       "\n",
       "    .dataframe thead th {\n",
       "        text-align: right;\n",
       "    }\n",
       "</style>\n",
       "<table border=\"1\" class=\"dataframe\">\n",
       "  <thead>\n",
       "    <tr style=\"text-align: right;\">\n",
       "      <th></th>\n",
       "      <th>companyId</th>\n",
       "      <th>salary</th>\n",
       "    </tr>\n",
       "  </thead>\n",
       "  <tbody>\n",
       "    <tr>\n",
       "      <th>0</th>\n",
       "      <td>COMP37</td>\n",
       "      <td>130</td>\n",
       "    </tr>\n",
       "    <tr>\n",
       "      <th>1</th>\n",
       "      <td>COMP19</td>\n",
       "      <td>101</td>\n",
       "    </tr>\n",
       "    <tr>\n",
       "      <th>2</th>\n",
       "      <td>COMP52</td>\n",
       "      <td>137</td>\n",
       "    </tr>\n",
       "    <tr>\n",
       "      <th>3</th>\n",
       "      <td>COMP38</td>\n",
       "      <td>142</td>\n",
       "    </tr>\n",
       "    <tr>\n",
       "      <th>4</th>\n",
       "      <td>COMP7</td>\n",
       "      <td>163</td>\n",
       "    </tr>\n",
       "    <tr>\n",
       "      <th>...</th>\n",
       "      <td>...</td>\n",
       "      <td>...</td>\n",
       "    </tr>\n",
       "    <tr>\n",
       "      <th>275</th>\n",
       "      <td>COMP35</td>\n",
       "      <td>139</td>\n",
       "    </tr>\n",
       "    <tr>\n",
       "      <th>307</th>\n",
       "      <td>COMP60</td>\n",
       "      <td>124</td>\n",
       "    </tr>\n",
       "    <tr>\n",
       "      <th>314</th>\n",
       "      <td>COMP10</td>\n",
       "      <td>187</td>\n",
       "    </tr>\n",
       "    <tr>\n",
       "      <th>350</th>\n",
       "      <td>COMP60</td>\n",
       "      <td>132</td>\n",
       "    </tr>\n",
       "    <tr>\n",
       "      <th>470</th>\n",
       "      <td>COMP62</td>\n",
       "      <td>162</td>\n",
       "    </tr>\n",
       "  </tbody>\n",
       "</table>\n",
       "<p>126 rows × 2 columns</p>\n",
       "</div>"
      ],
      "text/plain": [
       "    companyId  salary\n",
       "0      COMP37     130\n",
       "1      COMP19     101\n",
       "2      COMP52     137\n",
       "3      COMP38     142\n",
       "4       COMP7     163\n",
       "..        ...     ...\n",
       "275    COMP35     139\n",
       "307    COMP60     124\n",
       "314    COMP10     187\n",
       "350    COMP60     132\n",
       "470    COMP62     162\n",
       "\n",
       "[126 rows x 2 columns]"
      ]
     },
     "execution_count": 814,
     "metadata": {},
     "output_type": "execute_result"
    }
   ],
   "source": [
    "grouped_test=df_train[['companyId', 'salary']].groupby(['companyId'])\n",
    "grouped_test.head(2)"
   ]
  },
  {
   "cell_type": "code",
   "execution_count": 815,
   "metadata": {},
   "outputs": [
    {
     "name": "stdout",
     "output_type": "stream",
     "text": [
      "ANOVA results: F= 0.7821696482190108 , P = 0.633004050105283\n"
     ]
    }
   ],
   "source": [
    "# ANOVA\n",
    "f_val, p_val = stats.f_oneway(grouped_test.get_group('COMP0')['salary'], \n",
    "                              grouped_test.get_group('COMP1')['salary'], \n",
    "                              grouped_test.get_group('COMP2')['salary'],\n",
    "                              grouped_test.get_group('COMP3')['salary'],\n",
    "                              grouped_test.get_group('COMP4')['salary'],\n",
    "                              grouped_test.get_group('COMP5')['salary'],\n",
    "                              grouped_test.get_group('COMP6')['salary'],\n",
    "                              grouped_test.get_group('COMP7')['salary'],\n",
    "                              grouped_test.get_group('COMP8')['salary'],\n",
    "                              grouped_test.get_group('COMP9')['salary'] )  \n",
    " \n",
    "print( \"ANOVA results: F=\", f_val, \", P =\", p_val)"
   ]
  },
  {
   "cell_type": "markdown",
   "metadata": {},
   "source": [
    "The F value being so small as well as the p value being that high means that they are not statcally significant"
   ]
  },
  {
   "cell_type": "markdown",
   "metadata": {},
   "source": [
    "Now we look at the categorical features and compare each category to the target variable salary - jobType, degree, major, industry"
   ]
  },
  {
   "cell_type": "markdown",
   "metadata": {},
   "source": [
    "### jobType"
   ]
  },
  {
   "cell_type": "code",
   "execution_count": 816,
   "metadata": {},
   "outputs": [
    {
     "data": {
      "text/plain": [
       "<matplotlib.axes._subplots.AxesSubplot at 0x7fbd8b266cd0>"
      ]
     },
     "execution_count": 816,
     "metadata": {},
     "output_type": "execute_result"
    },
    {
     "data": {
      "image/png": "[encoded data removed]",
      "text/plain": [
       "<Figure size 1008x432 with 1 Axes>"
      ]
     },
     "metadata": {
      "needs_background": "light"
     },
     "output_type": "display_data"
    }
   ],
   "source": [
    "\n",
    "plt.figure(figsize = (14, 6))\n",
    "mean = df_train.groupby('jobType')['salary'].mean()\n",
    "df_train['jobType'] = df_train['jobType'].astype('category')\n",
    "levels = mean.sort_values().index.tolist()\n",
    "df_train['jobType'].cat.reorder_categories(levels, inplace=True)\n",
    "sns.boxplot(x = 'jobType', y = 'salary', data=df_train)"
   ]
  },
  {
   "cell_type": "markdown",
   "metadata": {},
   "source": [
    "JobType clearly influences salary with CFO, CT0 and CEO earning the most, this makes sense as they run the company. There is a clearly a positive relationship between both of them"
   ]
  },
  {
   "cell_type": "code",
   "execution_count": 817,
   "metadata": {},
   "outputs": [
    {
     "name": "stdout",
     "output_type": "stream",
     "text": [
      "ANOVA results: F= 79301.48972207512 , P = 0.0\n"
     ]
    }
   ],
   "source": [
    "grouped_test1=df_train[['jobType', 'salary']].groupby(['jobType'])\n",
    "f_val, p_val = stats.f_oneway(grouped_test1.get_group('JANITOR')['salary'], \n",
    "                              grouped_test1.get_group('JUNIOR')['salary'], \n",
    "                              grouped_test1.get_group('SENIOR')['salary'],\n",
    "                              grouped_test1.get_group('MANAGER')['salary'],\n",
    "                              grouped_test1.get_group('VICE_PRESIDENT')['salary'],\n",
    "                              grouped_test1.get_group('CFO')['salary'],\n",
    "                              grouped_test1.get_group('CTO')['salary'],\n",
    "                              grouped_test1.get_group('CEO')['salary'] )  \n",
    " \n",
    "print( \"ANOVA results: F=\", f_val, \", P =\", p_val)"
   ]
  },
  {
   "cell_type": "markdown",
   "metadata": {},
   "source": [
    "This is a great result, with a large F test score showing a strong correlation and a P value of 0 implying almost certain statistical significance."
   ]
  },
  {
   "cell_type": "markdown",
   "metadata": {},
   "source": [
    "## degree"
   ]
  },
  {
   "cell_type": "code",
   "execution_count": 818,
   "metadata": {},
   "outputs": [
    {
     "data": {
      "text/plain": [
       "<matplotlib.axes._subplots.AxesSubplot at 0x7fbd8b2663d0>"
      ]
     },
     "execution_count": 818,
     "metadata": {},
     "output_type": "execute_result"
    },
    {
     "data": {
      "image/png": "[encoded data removed]",
      "text/plain": [
       "<Figure size 1008x432 with 1 Axes>"
      ]
     },
     "metadata": {
      "needs_background": "light"
     },
     "output_type": "display_data"
    }
   ],
   "source": [
    "#degree\n",
    "plt.figure(figsize = (14, 6))\n",
    "mean = df_train.groupby('degree')['salary'].mean()\n",
    "df_train['degree'] = df_train['degree'].astype('category')\n",
    "levels = mean.sort_values().index.tolist()\n",
    "df_train['degree'].cat.reorder_categories(levels, inplace=True)\n",
    "sns.boxplot(x = 'degree', y = 'salary', data=df_train)"
   ]
  },
  {
   "cell_type": "markdown",
   "metadata": {},
   "source": [
    "college degrees tend to correlate to a higher salary"
   ]
  },
  {
   "cell_type": "code",
   "execution_count": 819,
   "metadata": {},
   "outputs": [
    {
     "name": "stdout",
     "output_type": "stream",
     "text": [
      "ANOVA results: F= 47988.0535384912 , P = 0.0\n"
     ]
    }
   ],
   "source": [
    "grouped_test2=df_train[['degree', 'salary']].groupby(['degree'])\n",
    "f_val, p_val = stats.f_oneway(grouped_test2.get_group('NONE')['salary'], \n",
    "                              grouped_test2.get_group('HIGH_SCHOOL')['salary'], \n",
    "                              grouped_test2.get_group('BACHELORS')['salary'],\n",
    "                              grouped_test2.get_group('MASTERS')['salary'],\n",
    "                              grouped_test2.get_group('DOCTORAL')['salary'])  \n",
    " \n",
    "print( \"ANOVA results: F=\", f_val, \", P =\", p_val)"
   ]
  },
  {
   "cell_type": "markdown",
   "metadata": {},
   "source": [
    "A large F test score showing a strong correlation and a P value of 0 implying almost certain statistical significance."
   ]
  },
  {
   "cell_type": "markdown",
   "metadata": {},
   "source": [
    "## major"
   ]
  },
  {
   "cell_type": "code",
   "execution_count": 820,
   "metadata": {},
   "outputs": [
    {
     "data": {
      "text/plain": [
       "<matplotlib.axes._subplots.AxesSubplot at 0x7fbd681ccd50>"
      ]
     },
     "execution_count": 820,
     "metadata": {},
     "output_type": "execute_result"
    },
    {
     "data": {
      "image/png": "[encoded data removed]",
      "text/plain": [
       "<Figure size 1008x432 with 1 Axes>"
      ]
     },
     "metadata": {
      "needs_background": "light"
     },
     "output_type": "display_data"
    }
   ],
   "source": [
    "#major\n",
    "plt.figure(figsize = (14, 6))\n",
    "mean = df_train.groupby('major')['salary'].mean()\n",
    "df_train['major'] = df_train['major'].astype('category')\n",
    "levels = mean.sort_values().index.tolist()\n",
    "df_train['major'].cat.reorder_categories(levels, inplace=True)\n",
    "sns.boxplot(x = 'major', y = 'salary', data=df_train)"
   ]
  },
  {
   "cell_type": "markdown",
   "metadata": {},
   "source": [
    "Engineering, business and math pay better"
   ]
  },
  {
   "cell_type": "code",
   "execution_count": 821,
   "metadata": {},
   "outputs": [
    {
     "name": "stdout",
     "output_type": "stream",
     "text": [
      "ANOVA results: F= 20924.535311417687 , P = 0.0\n"
     ]
    }
   ],
   "source": [
    "grouped_test3=df_train[['major', 'salary']].groupby(['major'])\n",
    "f_val, p_val = stats.f_oneway(grouped_test3.get_group('NONE')['salary'], \n",
    "                              grouped_test3.get_group('LITERATURE')['salary'], \n",
    "                              grouped_test3.get_group('BIOLOGY')['salary'],\n",
    "                              grouped_test3.get_group('CHEMISTRY')['salary'],\n",
    "                              grouped_test3.get_group('PHYSICS')['salary'],\n",
    "                              grouped_test3.get_group('COMPSCI')['salary'],\n",
    "                              grouped_test3.get_group('MATH')['salary'],\n",
    "                              grouped_test3.get_group('BUSINESS')['salary'],\n",
    "                              grouped_test3.get_group('ENGINEERING')['salary'])  \n",
    " \n",
    "print( \"ANOVA results: F=\", f_val, \", P =\", p_val)"
   ]
  },
  {
   "cell_type": "markdown",
   "metadata": {},
   "source": [
    "A large F test score showing a strong correlation and a P value of 0 implying almost certain statistical significance."
   ]
  },
  {
   "cell_type": "markdown",
   "metadata": {},
   "source": [
    "## Industry"
   ]
  },
  {
   "cell_type": "code",
   "execution_count": 822,
   "metadata": {},
   "outputs": [
    {
     "data": {
      "text/plain": [
       "<matplotlib.axes._subplots.AxesSubplot at 0x7fbd681ed810>"
      ]
     },
     "execution_count": 822,
     "metadata": {},
     "output_type": "execute_result"
    },
    {
     "data": {
      "image/png": "[encoded data removed]",
      "text/plain": [
       "<Figure size 1008x432 with 1 Axes>"
      ]
     },
     "metadata": {
      "needs_background": "light"
     },
     "output_type": "display_data"
    }
   ],
   "source": [
    "#industry\n",
    "plt.figure(figsize = (14, 6))\n",
    "mean = df_train.groupby('industry')['salary'].mean()\n",
    "df_train['industry'] = df_train['industry'].astype('category')\n",
    "levels = mean.sort_values().index.tolist()\n",
    "df_train['industry'].cat.reorder_categories(levels, inplace=True)\n",
    "sns.boxplot(x = 'industry', y = 'salary', data=df_train)"
   ]
  },
  {
   "cell_type": "markdown",
   "metadata": {},
   "source": [
    "Industries of oil, finance and web tend to pay better (we did observe that when we were trying to find the corrupt data)"
   ]
  },
  {
   "cell_type": "code",
   "execution_count": 823,
   "metadata": {},
   "outputs": [
    {
     "name": "stdout",
     "output_type": "stream",
     "text": [
      "ANOVA results: F= 16079.108315731506 , P = 0.0\n"
     ]
    }
   ],
   "source": [
    "grouped_test4=df_train[['industry', 'salary']].groupby(['industry'])\n",
    "f_val, p_val = stats.f_oneway(grouped_test4.get_group('EDUCATION')['salary'], \n",
    "                              grouped_test4.get_group('SERVICE')['salary'], \n",
    "                              grouped_test4.get_group('AUTO')['salary'],\n",
    "                              grouped_test4.get_group('HEALTH')['salary'],\n",
    "                              grouped_test4.get_group('WEB')['salary'],\n",
    "                              grouped_test4.get_group('FINANCE')['salary'],\n",
    "                              grouped_test4.get_group('OIL')['salary'])  \n",
    " \n",
    "print( \"ANOVA results: F=\", f_val, \", P =\", p_val)"
   ]
  },
  {
   "cell_type": "markdown",
   "metadata": {},
   "source": [
    "A large F test score showing a strong correlation and a P value of 0 implying almost certain statistical significance."
   ]
  },
  {
   "cell_type": "markdown",
   "metadata": {},
   "source": [
    "We will discard jobId and companyId as a training feature as it is a unique value for each row for the first and we proved that the latter was not statiscally significant. MilesfromMetropolis, WorkExperience, Job_Type, Degree, Major and Industry are going to be our training features and salary our target variable\n",
    "We now will want to one hot encode the categorical data - we need to be able to see it as numerical data, each category will have a column to do that - even though we observed a very weak relationship between companyID and salary, we want to make sure that our assumptions are correct"
   ]
  },
  {
   "cell_type": "code",
   "execution_count": 824,
   "metadata": {},
   "outputs": [],
   "source": [
    "def cat_to_num(data):\n",
    "    # encode the categories using average salary for each category to replace label\n",
    "    for col in data.columns:\n",
    "        if data[col].dtype.name == 'category':\n",
    "            feature_dict = {}\n",
    "            feature_list = data[col].cat.categories.tolist()\n",
    "            for ft in feature_list:\n",
    "                feature_dict[ft] = data[data[col] == ft]['salary'].mean()\n",
    "            data[col] = data[col].map(feature_dict)\n",
    "            data[col] = data[col].astype('float64')\n"
   ]
  },
  {
   "cell_type": "code",
   "execution_count": 825,
   "metadata": {},
   "outputs": [
    {
     "data": {
      "text/html": [
       "<div>\n",
       "<style scoped>\n",
       "    .dataframe tbody tr th:only-of-type {\n",
       "        vertical-align: middle;\n",
       "    }\n",
       "\n",
       "    .dataframe tbody tr th {\n",
       "        vertical-align: top;\n",
       "    }\n",
       "\n",
       "    .dataframe thead th {\n",
       "        text-align: right;\n",
       "    }\n",
       "</style>\n",
       "<table border=\"1\" class=\"dataframe\">\n",
       "  <thead>\n",
       "    <tr style=\"text-align: right;\">\n",
       "      <th></th>\n",
       "      <th>jobId</th>\n",
       "      <th>companyId</th>\n",
       "      <th>jobType</th>\n",
       "      <th>degree</th>\n",
       "      <th>major</th>\n",
       "      <th>industry</th>\n",
       "      <th>yearsExperience</th>\n",
       "      <th>milesFromMetropolis</th>\n",
       "      <th>salary</th>\n",
       "    </tr>\n",
       "  </thead>\n",
       "  <tbody>\n",
       "    <tr>\n",
       "      <th>0</th>\n",
       "      <td>JOB1362684407687</td>\n",
       "      <td>COMP37</td>\n",
       "      <td>135.458547</td>\n",
       "      <td>130.505647</td>\n",
       "      <td>133.322042</td>\n",
       "      <td>115.735540</td>\n",
       "      <td>10</td>\n",
       "      <td>83</td>\n",
       "      <td>130</td>\n",
       "    </tr>\n",
       "    <tr>\n",
       "      <th>1</th>\n",
       "      <td>JOB1362684407688</td>\n",
       "      <td>COMP19</td>\n",
       "      <td>145.311425</td>\n",
       "      <td>101.921085</td>\n",
       "      <td>102.583864</td>\n",
       "      <td>121.645362</td>\n",
       "      <td>3</td>\n",
       "      <td>73</td>\n",
       "      <td>101</td>\n",
       "    </tr>\n",
       "    <tr>\n",
       "      <th>2</th>\n",
       "      <td>JOB1362684407689</td>\n",
       "      <td>COMP52</td>\n",
       "      <td>125.368630</td>\n",
       "      <td>135.490979</td>\n",
       "      <td>130.372436</td>\n",
       "      <td>115.735540</td>\n",
       "      <td>10</td>\n",
       "      <td>38</td>\n",
       "      <td>137</td>\n",
       "    </tr>\n",
       "    <tr>\n",
       "      <th>3</th>\n",
       "      <td>JOB1362684407690</td>\n",
       "      <td>COMP38</td>\n",
       "      <td>115.368518</td>\n",
       "      <td>135.490979</td>\n",
       "      <td>129.072085</td>\n",
       "      <td>109.435222</td>\n",
       "      <td>8</td>\n",
       "      <td>17</td>\n",
       "      <td>142</td>\n",
       "    </tr>\n",
       "    <tr>\n",
       "      <th>4</th>\n",
       "      <td>JOB1362684407691</td>\n",
       "      <td>COMP7</td>\n",
       "      <td>125.368630</td>\n",
       "      <td>125.454663</td>\n",
       "      <td>130.372436</td>\n",
       "      <td>130.747659</td>\n",
       "      <td>8</td>\n",
       "      <td>16</td>\n",
       "      <td>163</td>\n",
       "    </tr>\n",
       "    <tr>\n",
       "      <th>...</th>\n",
       "      <td>...</td>\n",
       "      <td>...</td>\n",
       "      <td>...</td>\n",
       "      <td>...</td>\n",
       "      <td>...</td>\n",
       "      <td>...</td>\n",
       "      <td>...</td>\n",
       "      <td>...</td>\n",
       "      <td>...</td>\n",
       "    </tr>\n",
       "    <tr>\n",
       "      <th>999990</th>\n",
       "      <td>JOB1362685407682</td>\n",
       "      <td>COMP56</td>\n",
       "      <td>125.368630</td>\n",
       "      <td>125.454663</td>\n",
       "      <td>129.072085</td>\n",
       "      <td>115.735540</td>\n",
       "      <td>19</td>\n",
       "      <td>94</td>\n",
       "      <td>88</td>\n",
       "    </tr>\n",
       "    <tr>\n",
       "      <th>999991</th>\n",
       "      <td>JOB1362685407683</td>\n",
       "      <td>COMP24</td>\n",
       "      <td>135.481067</td>\n",
       "      <td>101.921085</td>\n",
       "      <td>102.583864</td>\n",
       "      <td>130.747659</td>\n",
       "      <td>12</td>\n",
       "      <td>35</td>\n",
       "      <td>160</td>\n",
       "    </tr>\n",
       "    <tr>\n",
       "      <th>999992</th>\n",
       "      <td>JOB1362685407684</td>\n",
       "      <td>COMP23</td>\n",
       "      <td>95.333087</td>\n",
       "      <td>101.921085</td>\n",
       "      <td>102.583864</td>\n",
       "      <td>99.448386</td>\n",
       "      <td>16</td>\n",
       "      <td>81</td>\n",
       "      <td>64</td>\n",
       "    </tr>\n",
       "    <tr>\n",
       "      <th>999993</th>\n",
       "      <td>JOB1362685407685</td>\n",
       "      <td>COMP3</td>\n",
       "      <td>135.458547</td>\n",
       "      <td>130.505647</td>\n",
       "      <td>102.583864</td>\n",
       "      <td>115.735540</td>\n",
       "      <td>6</td>\n",
       "      <td>5</td>\n",
       "      <td>149</td>\n",
       "    </tr>\n",
       "    <tr>\n",
       "      <th>999994</th>\n",
       "      <td>JOB1362685407686</td>\n",
       "      <td>COMP59</td>\n",
       "      <td>95.333087</td>\n",
       "      <td>125.454663</td>\n",
       "      <td>102.583864</td>\n",
       "      <td>99.448386</td>\n",
       "      <td>20</td>\n",
       "      <td>11</td>\n",
       "      <td>88</td>\n",
       "    </tr>\n",
       "  </tbody>\n",
       "</table>\n",
       "<p>999995 rows × 9 columns</p>\n",
       "</div>"
      ],
      "text/plain": [
       "                   jobId companyId     jobType      degree       major  \\\n",
       "0       JOB1362684407687    COMP37  135.458547  130.505647  133.322042   \n",
       "1       JOB1362684407688    COMP19  145.311425  101.921085  102.583864   \n",
       "2       JOB1362684407689    COMP52  125.368630  135.490979  130.372436   \n",
       "3       JOB1362684407690    COMP38  115.368518  135.490979  129.072085   \n",
       "4       JOB1362684407691     COMP7  125.368630  125.454663  130.372436   \n",
       "...                  ...       ...         ...         ...         ...   \n",
       "999990  JOB1362685407682    COMP56  125.368630  125.454663  129.072085   \n",
       "999991  JOB1362685407683    COMP24  135.481067  101.921085  102.583864   \n",
       "999992  JOB1362685407684    COMP23   95.333087  101.921085  102.583864   \n",
       "999993  JOB1362685407685     COMP3  135.458547  130.505647  102.583864   \n",
       "999994  JOB1362685407686    COMP59   95.333087  125.454663  102.583864   \n",
       "\n",
       "          industry  yearsExperience  milesFromMetropolis  salary  \n",
       "0       115.735540               10                   83     130  \n",
       "1       121.645362                3                   73     101  \n",
       "2       115.735540               10                   38     137  \n",
       "3       109.435222                8                   17     142  \n",
       "4       130.747659                8                   16     163  \n",
       "...            ...              ...                  ...     ...  \n",
       "999990  115.735540               19                   94      88  \n",
       "999991  130.747659               12                   35     160  \n",
       "999992   99.448386               16                   81      64  \n",
       "999993  115.735540                6                    5     149  \n",
       "999994   99.448386               20                   11      88  \n",
       "\n",
       "[999995 rows x 9 columns]"
      ]
     },
     "execution_count": 825,
     "metadata": {},
     "output_type": "execute_result"
    }
   ],
   "source": [
    "df_train1 = df_train.copy()\n",
    "cat_to_num(df_train1)\n",
    "df_train1"
   ]
  },
  {
   "cell_type": "code",
   "execution_count": 826,
   "metadata": {},
   "outputs": [
    {
     "data": {
      "image/png": "[encoded data removed]",
      "text/plain": [
       "<Figure size 864x648 with 2 Axes>"
      ]
     },
     "metadata": {
      "needs_background": "light"
     },
     "output_type": "display_data"
    }
   ],
   "source": [
    "fig = plt.figure(figsize=(12, 9))\n",
    "features = ['jobType', 'degree', 'major', 'industry', 'yearsExperience', 'milesFromMetropolis']\n",
    "sns.heatmap(df_train1[features + ['salary']].corr(), cmap='magma',vmin=-1, vmax=1, annot=True, linewidths=1)\n",
    "plt.title('Heatmap of Correlation Matrix')\n",
    "plt.xticks(rotation=45)\n",
    "plt.show()\n"
   ]
  },
  {
   "cell_type": "markdown",
   "metadata": {},
   "source": [
    "We see that jobType is most strongly correlated with salary, followed by degree, major, and yearsExperience."
   ]
  },
  {
   "cell_type": "markdown",
   "metadata": {},
   "source": [
    "The features also have some correlation, degree and major have a strong correlation while major/degree and jobType have a weak one"
   ]
  },
  {
   "cell_type": "markdown",
   "metadata": {},
   "source": [
    "### ---- 5 Establish a baseline ----"
   ]
  },
  {
   "cell_type": "markdown",
   "metadata": {},
   "source": [
    "We are going to evaluate our models using the Mean Squared error which is geared more towards large errors as it squares each error. It is the reasonable metric to select as the problem is a regression one where the numerical, continuous target depends on a set of features."
   ]
  },
  {
   "cell_type": "markdown",
   "metadata": {},
   "source": [
    "Before we build our complex models, let's start with a baseline metric. We'll compare our other models to the baseline to show how much they improve over the baseline. A common metric for making salary comparisons is the average job type salary."
   ]
  },
  {
   "cell_type": "code",
   "execution_count": 827,
   "metadata": {},
   "outputs": [
    {
     "data": {
      "text/html": [
       "<div>\n",
       "<style scoped>\n",
       "    .dataframe tbody tr th:only-of-type {\n",
       "        vertical-align: middle;\n",
       "    }\n",
       "\n",
       "    .dataframe tbody tr th {\n",
       "        vertical-align: top;\n",
       "    }\n",
       "\n",
       "    .dataframe thead th {\n",
       "        text-align: right;\n",
       "    }\n",
       "</style>\n",
       "<table border=\"1\" class=\"dataframe\">\n",
       "  <thead>\n",
       "    <tr style=\"text-align: right;\">\n",
       "      <th></th>\n",
       "      <th>jobType</th>\n",
       "      <th>avg_salary</th>\n",
       "    </tr>\n",
       "  </thead>\n",
       "  <tbody>\n",
       "    <tr>\n",
       "      <th>0</th>\n",
       "      <td>JANITOR</td>\n",
       "      <td>70.813045</td>\n",
       "    </tr>\n",
       "    <tr>\n",
       "      <th>1</th>\n",
       "      <td>JUNIOR</td>\n",
       "      <td>95.333087</td>\n",
       "    </tr>\n",
       "    <tr>\n",
       "      <th>2</th>\n",
       "      <td>SENIOR</td>\n",
       "      <td>105.487775</td>\n",
       "    </tr>\n",
       "    <tr>\n",
       "      <th>3</th>\n",
       "      <td>MANAGER</td>\n",
       "      <td>115.368518</td>\n",
       "    </tr>\n",
       "    <tr>\n",
       "      <th>4</th>\n",
       "      <td>VICE_PRESIDENT</td>\n",
       "      <td>125.368630</td>\n",
       "    </tr>\n",
       "    <tr>\n",
       "      <th>5</th>\n",
       "      <td>CFO</td>\n",
       "      <td>135.458547</td>\n",
       "    </tr>\n",
       "    <tr>\n",
       "      <th>6</th>\n",
       "      <td>CTO</td>\n",
       "      <td>135.481067</td>\n",
       "    </tr>\n",
       "    <tr>\n",
       "      <th>7</th>\n",
       "      <td>CEO</td>\n",
       "      <td>145.311425</td>\n",
       "    </tr>\n",
       "  </tbody>\n",
       "</table>\n",
       "</div>"
      ],
      "text/plain": [
       "          jobType  avg_salary\n",
       "0         JANITOR   70.813045\n",
       "1          JUNIOR   95.333087\n",
       "2          SENIOR  105.487775\n",
       "3         MANAGER  115.368518\n",
       "4  VICE_PRESIDENT  125.368630\n",
       "5             CFO  135.458547\n",
       "6             CTO  135.481067\n",
       "7             CEO  145.311425"
      ]
     },
     "execution_count": 827,
     "metadata": {},
     "output_type": "execute_result"
    }
   ],
   "source": [
    "df_baseline = df_train.groupby('jobType', as_index = False).mean()\n",
    "df_baseline.rename(columns = {'salary':'avg_salary'}, inplace = True)\n",
    "df_baseline = df_baseline[['jobType', 'avg_salary']]\n",
    "df_baseline"
   ]
  },
  {
   "cell_type": "code",
   "execution_count": 828,
   "metadata": {},
   "outputs": [
    {
     "data": {
      "text/html": [
       "<div>\n",
       "<style scoped>\n",
       "    .dataframe tbody tr th:only-of-type {\n",
       "        vertical-align: middle;\n",
       "    }\n",
       "\n",
       "    .dataframe tbody tr th {\n",
       "        vertical-align: top;\n",
       "    }\n",
       "\n",
       "    .dataframe thead th {\n",
       "        text-align: right;\n",
       "    }\n",
       "</style>\n",
       "<table border=\"1\" class=\"dataframe\">\n",
       "  <thead>\n",
       "    <tr style=\"text-align: right;\">\n",
       "      <th></th>\n",
       "      <th>jobId</th>\n",
       "      <th>companyId</th>\n",
       "      <th>jobType</th>\n",
       "      <th>degree</th>\n",
       "      <th>major</th>\n",
       "      <th>industry</th>\n",
       "      <th>yearsExperience</th>\n",
       "      <th>milesFromMetropolis</th>\n",
       "      <th>salary</th>\n",
       "      <th>avg_salary</th>\n",
       "    </tr>\n",
       "  </thead>\n",
       "  <tbody>\n",
       "    <tr>\n",
       "      <th>0</th>\n",
       "      <td>JOB1362684407687</td>\n",
       "      <td>COMP37</td>\n",
       "      <td>CFO</td>\n",
       "      <td>MASTERS</td>\n",
       "      <td>MATH</td>\n",
       "      <td>HEALTH</td>\n",
       "      <td>10</td>\n",
       "      <td>83</td>\n",
       "      <td>130</td>\n",
       "      <td>135.458547</td>\n",
       "    </tr>\n",
       "    <tr>\n",
       "      <th>1</th>\n",
       "      <td>JOB1362684407693</td>\n",
       "      <td>COMP15</td>\n",
       "      <td>CFO</td>\n",
       "      <td>NONE</td>\n",
       "      <td>NONE</td>\n",
       "      <td>HEALTH</td>\n",
       "      <td>23</td>\n",
       "      <td>24</td>\n",
       "      <td>178</td>\n",
       "      <td>135.458547</td>\n",
       "    </tr>\n",
       "    <tr>\n",
       "      <th>2</th>\n",
       "      <td>JOB1362684407712</td>\n",
       "      <td>COMP27</td>\n",
       "      <td>CFO</td>\n",
       "      <td>BACHELORS</td>\n",
       "      <td>CHEMISTRY</td>\n",
       "      <td>AUTO</td>\n",
       "      <td>9</td>\n",
       "      <td>70</td>\n",
       "      <td>131</td>\n",
       "      <td>135.458547</td>\n",
       "    </tr>\n",
       "  </tbody>\n",
       "</table>\n",
       "</div>"
      ],
      "text/plain": [
       "              jobId companyId jobType     degree      major industry  \\\n",
       "0  JOB1362684407687    COMP37     CFO    MASTERS       MATH   HEALTH   \n",
       "1  JOB1362684407693    COMP15     CFO       NONE       NONE   HEALTH   \n",
       "2  JOB1362684407712    COMP27     CFO  BACHELORS  CHEMISTRY     AUTO   \n",
       "\n",
       "   yearsExperience  milesFromMetropolis  salary  avg_salary  \n",
       "0               10                   83     130  135.458547  \n",
       "1               23                   24     178  135.458547  \n",
       "2                9                   70     131  135.458547  "
      ]
     },
     "execution_count": 828,
     "metadata": {},
     "output_type": "execute_result"
    }
   ],
   "source": [
    "df_baseline= pd.merge(df_train, df_baseline, on = 'jobType')\n",
    "df_baseline.head(3)"
   ]
  },
  {
   "cell_type": "code",
   "execution_count": 829,
   "metadata": {},
   "outputs": [
    {
     "data": {
      "text/plain": [
       "963.93"
      ]
     },
     "execution_count": 829,
     "metadata": {},
     "output_type": "execute_result"
    }
   ],
   "source": [
    "from sklearn.metrics import mean_squared_error\n",
    "\n",
    "mean_squared_error(df_baseline['salary'], df_baseline['avg_salary']).round(2)"
   ]
  },
  {
   "cell_type": "markdown",
   "metadata": {},
   "source": [
    "It is traditional for HR departments to make salary decesions based on the mean of the specific type of job the professional will have. We'll use the MSE of 963 for the average salaries compared to the actually salaries as our baseline. Our goal is to lower the MSE below 360 with at least one of our models so that we have a decrease of 600."
   ]
  },
  {
   "cell_type": "markdown",
   "metadata": {},
   "source": [
    "### ---- 6 Hypothesize solution ----"
   ]
  },
  {
   "cell_type": "markdown",
   "metadata": {},
   "source": [
    "It's understandable that just using the average salary by Job Type is not the most accurate model. Almost all of the features demostrate some kind of predictive behavior, with jobType and degree being strong indicators. CompanyID is the least predictive, and I don't think it would add value to consider it as a factor."
   ]
  },
  {
   "cell_type": "markdown",
   "metadata": {},
   "source": [
    "The prediction of our baseline model is based on the data itself without any fitting, feature engineering or tuning, so the result is not ideal. Our goal is to find the best model to beat this baseline model, i.e. get a model with much lower mse score."
   ]
  },
  {
   "cell_type": "markdown",
   "metadata": {},
   "source": [
    "We are dealing here with a continuous variable as a target variable (salary) which means that using Regression will be ideal here. We have the labels as well so a Supervised Machine Learning algorithms will be used to improve the prediction results. Regression and Ensembles of Regression Algorithms suit our data and goal of predicting new salaries:\n",
    "3 models that should improve results over the baseline model given the above EDA, we will want the best one:\n",
    "- LinearRegression - Sometimes simple is best\n",
    "- RandomForestRegressor - Improved accuracy and control over-fittings\n",
    "- GradientBoostingRegressor - Can optimise on Least Squares regression."
   ]
  },
  {
   "cell_type": "markdown",
   "metadata": {},
   "source": [
    "## Part 3 - DEVELOP"
   ]
  },
  {
   "cell_type": "markdown",
   "metadata": {},
   "source": [
    "### ---- 7 Engineer features  ----"
   ]
  },
  {
   "cell_type": "code",
   "execution_count": 830,
   "metadata": {},
   "outputs": [],
   "source": [
    "df_test = df_raw_test_feature"
   ]
  },
  {
   "cell_type": "code",
   "execution_count": 831,
   "metadata": {},
   "outputs": [],
   "source": [
    "df_test['jobType'] = df_test['jobType'].astype('category')\n",
    "df_test['major'] = df_test['major'].astype('category')\n",
    "df_test['industry'] = df_test['industry'].astype('category')\n",
    "df_test['degree'] = df_test['degree'].astype('category')"
   ]
  },
  {
   "cell_type": "code",
   "execution_count": 832,
   "metadata": {},
   "outputs": [],
   "source": [
    "from sklearn.preprocessing import LabelEncoder"
   ]
  },
  {
   "cell_type": "code",
   "execution_count": 833,
   "metadata": {},
   "outputs": [],
   "source": [
    "class Data:\n",
    "    def __init__(self, train_file, test_file, categorical_cols, numeric_cols, target_col, key):\n",
    "        # create new copies instead of references\n",
    "        self.categorical_cols = list(categorical_cols)\n",
    "        self.numeric_cols = list(numeric_cols)\n",
    "        self.feature_cols = categorical_cols + numeric_cols\n",
    "        self.target_col = target_col\n",
    "        self.key = key\n",
    "        self.label_encoders = {}\n",
    "        self.df_train = self._create_df_train(train_file)\n",
    "        self.df_test = self._create_df_test(test_file)\n",
    "        self.df_results = pd.DataFrame(self.df_test)\n",
    "    \n",
    "    def label_df_encode(self, df, cols):\n",
    "        # creates one label encoder (convert object data to numeric data) for each column in the data frame\n",
    "        for col in cols:\n",
    "            if col in self.label_encoders:\n",
    "                # if label encoder already exits for col, use it\n",
    "                self._label_encode(df, col, self.label_encoders[col])\n",
    "            else:\n",
    "                self._label_encode(df, col)\n",
    "\n",
    "    def _label_encode(self, df, col, le=None):\n",
    "        # label encodes data\n",
    "        if le:\n",
    "            df[col] = le.transform(df[col])\n",
    "        else:\n",
    "            le = LabelEncoder()\n",
    "            le.fit(df[col])\n",
    "            df[col] = le.transform(df[col])\n",
    "            self.label_encoders[col] = le\n",
    "\n",
    "    def _create_df_train(self, df_train):#, label_encode=True):\n",
    "        # loads and merges training data features and targets, preprocesses data, encodes data\n",
    "        #if label_encode:\n",
    "            #self.label_df_encode(df_train, self.categorical_cols)\n",
    "        #return df_train\n",
    "        self.label_df_encode(df_train, self.categorical_cols)\n",
    "        return df_train\n",
    "\n",
    "    def _create_df_test(self, df_test):#, label_encode=True):\n",
    "        # loads and label encodes test data\n",
    "        #df_test = self._load_data(test_file)\n",
    "        #if label_encode:\n",
    "            #self.label_df_encode(df_test, self.categorical_cols)\n",
    "        #return df_test\n",
    "        self.label_df_encode(df_test, self.categorical_cols)\n",
    "        return df_test"
   ]
  },
  {
   "cell_type": "code",
   "execution_count": 834,
   "metadata": {},
   "outputs": [],
   "source": [
    "class FeatureGenerator:\n",
    "    def __init__(self, data):\n",
    "        # initializes class and creates groupby object for data\n",
    "        self.data = data\n",
    "        # able to generate features for new companies, but less accurate\n",
    "        self.categorical_cols = data.categorical_cols\n",
    "        self.groups = data.df_train.groupby(self.categorical_cols)\n",
    "        \n",
    "    def add_group_stats(self):\n",
    "        # adds group statistics to data stored in data object\n",
    "        # get group stats\n",
    "        df_group_stats = self._get_group_stats()\n",
    "        df_group_stats.reset_index(inplace=True)\n",
    "\n",
    "        # merge derived columns to original df\n",
    "        self.data.df_train = self._merge_new_cols(self.data.df_train, df_group_stats, self.categorical_cols, fillna=True)\n",
    "        self.data.df_test = self._merge_new_cols(self.data.df_test, df_group_stats, self.categorical_cols, fillna=True)\n",
    "\n",
    "        # update column lists\n",
    "        group_stats_cols = ['group_mean', 'group_max', 'group_min', 'group_std', 'group_median']\n",
    "        self._extend_col_lists(self.data, categorical_cols=group_stats_cols)\n",
    "\n",
    "    def _get_group_stats(self):\n",
    "        # calculates group statistics\n",
    "        target_col = self.data.target_col\n",
    "        df_group_stats = pd.DataFrame({'group_mean': self.groups[target_col].mean()})\n",
    "        df_group_stats['group_max'] = self.groups[target_col].max()\n",
    "        df_group_stats['group_min'] = self.groups[target_col].min()\n",
    "        df_group_stats['group_std'] = self.groups[target_col].std()\n",
    "        df_group_stats['group_median'] = self.groups[target_col].median()\n",
    "        return df_group_stats\n",
    "\n",
    "    def _merge_new_cols(self, df, df_new_cols, keys, fillna=False):\n",
    "        # merges engineered features with original df\n",
    "        df = pd.merge(df, df_new_cols, on=keys, how='left')\n",
    "        if fillna:\n",
    "            df.fillna(0, inplace=True)\n",
    "        return df\n",
    "\n",
    "    def _extend_col_lists(self, data, categorical_cols=[], numeric_cols=[]):\n",
    "        # addes engineered feature cols to data col lists\n",
    "        data.numeric_cols.extend(numeric_cols)\n",
    "        data.categorical_cols.extend(categorical_cols)\n",
    "        data.feature_cols.extend(numeric_cols + categorical_cols)"
   ]
  },
  {
   "cell_type": "markdown",
   "metadata": {},
   "source": [
    "\"jobID\" is unique for each record in the data, thus it shouldn't be considered into modeling.\n",
    "\"companyId\" is a categorical data with low Anova F score so not statistically significant for the prediction of salary\n",
    "\"jobType\", \"degree\", \"major\", \"industry\" are categorical variables, they have significant F values and p-values.\n",
    "They need to be converted into numerical variables before modeling, we choose to label them as this is already a big database and we want to minimize run time\n",
    "\"yearExperience & \"milesFromMetropolis\" are numerical features with a moderate correlation so they should be kept for modeling."
   ]
  },
  {
   "cell_type": "code",
   "execution_count": 835,
   "metadata": {},
   "outputs": [],
   "source": [
    "num_var = ['yearsExperience', 'milesFromMetropolis']\n",
    "\n",
    "cat_var = ['jobType', 'degree', 'major', 'industry']\n",
    "\n",
    "target_var = \"salary\"\n",
    "\n",
    "key = 'jobId'"
   ]
  },
  {
   "cell_type": "markdown",
   "metadata": {},
   "source": [
    "We seperate numerical and categorical variables as well as our target variable"
   ]
  },
  {
   "cell_type": "code",
   "execution_count": 836,
   "metadata": {},
   "outputs": [],
   "source": [
    "# turn feature engineering on/off\n",
    "engineer_features = True"
   ]
  },
  {
   "cell_type": "code",
   "execution_count": 837,
   "metadata": {},
   "outputs": [],
   "source": [
    "# Create data object\n",
    "data = Data(df_train, df_test, cat_var, num_var, target_var, key)"
   ]
  },
  {
   "cell_type": "code",
   "execution_count": 838,
   "metadata": {},
   "outputs": [],
   "source": [
    "#Engineer features\n",
    "if engineer_features:\n",
    "    feature_generator = FeatureGenerator(data)\n",
    "    feature_generator.add_group_stats()"
   ]
  },
  {
   "cell_type": "code",
   "execution_count": 839,
   "metadata": {},
   "outputs": [
    {
     "data": {
      "text/html": [
       "<div>\n",
       "<style scoped>\n",
       "    .dataframe tbody tr th:only-of-type {\n",
       "        vertical-align: middle;\n",
       "    }\n",
       "\n",
       "    .dataframe tbody tr th {\n",
       "        vertical-align: top;\n",
       "    }\n",
       "\n",
       "    .dataframe thead th {\n",
       "        text-align: right;\n",
       "    }\n",
       "</style>\n",
       "<table border=\"1\" class=\"dataframe\">\n",
       "  <thead>\n",
       "    <tr style=\"text-align: right;\">\n",
       "      <th></th>\n",
       "      <th>jobId</th>\n",
       "      <th>companyId</th>\n",
       "      <th>jobType</th>\n",
       "      <th>degree</th>\n",
       "      <th>major</th>\n",
       "      <th>industry</th>\n",
       "      <th>yearsExperience</th>\n",
       "      <th>milesFromMetropolis</th>\n",
       "      <th>salary</th>\n",
       "      <th>group_mean</th>\n",
       "      <th>group_max</th>\n",
       "      <th>group_min</th>\n",
       "      <th>group_std</th>\n",
       "      <th>group_median</th>\n",
       "    </tr>\n",
       "  </thead>\n",
       "  <tbody>\n",
       "    <tr>\n",
       "      <th>0</th>\n",
       "      <td>JOB1362684407687</td>\n",
       "      <td>COMP37</td>\n",
       "      <td>1</td>\n",
       "      <td>3</td>\n",
       "      <td>6</td>\n",
       "      <td>3</td>\n",
       "      <td>10</td>\n",
       "      <td>83</td>\n",
       "      <td>130</td>\n",
       "      <td>141.246753</td>\n",
       "      <td>241</td>\n",
       "      <td>80</td>\n",
       "      <td>28.312227</td>\n",
       "      <td>139.0</td>\n",
       "    </tr>\n",
       "    <tr>\n",
       "      <th>1</th>\n",
       "      <td>JOB1362684407688</td>\n",
       "      <td>COMP19</td>\n",
       "      <td>0</td>\n",
       "      <td>2</td>\n",
       "      <td>7</td>\n",
       "      <td>6</td>\n",
       "      <td>3</td>\n",
       "      <td>73</td>\n",
       "      <td>101</td>\n",
       "      <td>140.051566</td>\n",
       "      <td>248</td>\n",
       "      <td>74</td>\n",
       "      <td>29.520885</td>\n",
       "      <td>138.0</td>\n",
       "    </tr>\n",
       "    <tr>\n",
       "      <th>2</th>\n",
       "      <td>JOB1362684407689</td>\n",
       "      <td>COMP52</td>\n",
       "      <td>7</td>\n",
       "      <td>1</td>\n",
       "      <td>8</td>\n",
       "      <td>3</td>\n",
       "      <td>10</td>\n",
       "      <td>38</td>\n",
       "      <td>137</td>\n",
       "      <td>133.640097</td>\n",
       "      <td>214</td>\n",
       "      <td>75</td>\n",
       "      <td>27.075957</td>\n",
       "      <td>132.0</td>\n",
       "    </tr>\n",
       "    <tr>\n",
       "      <th>3</th>\n",
       "      <td>JOB1362684407690</td>\n",
       "      <td>COMP38</td>\n",
       "      <td>5</td>\n",
       "      <td>1</td>\n",
       "      <td>2</td>\n",
       "      <td>0</td>\n",
       "      <td>8</td>\n",
       "      <td>17</td>\n",
       "      <td>142</td>\n",
       "      <td>118.915865</td>\n",
       "      <td>203</td>\n",
       "      <td>69</td>\n",
       "      <td>25.409706</td>\n",
       "      <td>117.0</td>\n",
       "    </tr>\n",
       "    <tr>\n",
       "      <th>4</th>\n",
       "      <td>JOB1362684407691</td>\n",
       "      <td>COMP7</td>\n",
       "      <td>7</td>\n",
       "      <td>0</td>\n",
       "      <td>8</td>\n",
       "      <td>2</td>\n",
       "      <td>8</td>\n",
       "      <td>16</td>\n",
       "      <td>163</td>\n",
       "      <td>142.290323</td>\n",
       "      <td>238</td>\n",
       "      <td>72</td>\n",
       "      <td>30.458235</td>\n",
       "      <td>140.0</td>\n",
       "    </tr>\n",
       "  </tbody>\n",
       "</table>\n",
       "</div>"
      ],
      "text/plain": [
       "              jobId companyId  jobType  degree  major  industry  \\\n",
       "0  JOB1362684407687    COMP37        1       3      6         3   \n",
       "1  JOB1362684407688    COMP19        0       2      7         6   \n",
       "2  JOB1362684407689    COMP52        7       1      8         3   \n",
       "3  JOB1362684407690    COMP38        5       1      2         0   \n",
       "4  JOB1362684407691     COMP7        7       0      8         2   \n",
       "\n",
       "   yearsExperience  milesFromMetropolis  salary  group_mean  group_max  \\\n",
       "0               10                   83     130  141.246753        241   \n",
       "1                3                   73     101  140.051566        248   \n",
       "2               10                   38     137  133.640097        214   \n",
       "3                8                   17     142  118.915865        203   \n",
       "4                8                   16     163  142.290323        238   \n",
       "\n",
       "   group_min  group_std  group_median  \n",
       "0         80  28.312227         139.0  \n",
       "1         74  29.520885         138.0  \n",
       "2         75  27.075957         132.0  \n",
       "3         69  25.409706         117.0  \n",
       "4         72  30.458235         140.0  "
      ]
     },
     "execution_count": 839,
     "metadata": {},
     "output_type": "execute_result"
    }
   ],
   "source": [
    "data.df_train.head(5)"
   ]
  },
  {
   "cell_type": "code",
   "execution_count": 840,
   "metadata": {},
   "outputs": [],
   "source": [
    "X = data.df_train[data.feature_cols]\n",
    "y = data.df_train[data.target_col]"
   ]
  },
  {
   "cell_type": "markdown",
   "metadata": {},
   "source": [
    "We now have all of our data in numerical format. We have also added 5 new featured engineered columns which are group_mean, group_max, group_min, group_std and the group_median and we are now ready for modelling as we have our feature variables and our target one."
   ]
  },
  {
   "cell_type": "markdown",
   "metadata": {},
   "source": [
    "### ---- 8 Create models ----"
   ]
  },
  {
   "cell_type": "markdown",
   "metadata": {},
   "source": [
    "Before creating the actual models I'll define functions to loop through the model testing."
   ]
  },
  {
   "cell_type": "code",
   "execution_count": 850,
   "metadata": {},
   "outputs": [],
   "source": [
    "class ModelContainer:\n",
    "    def __init__(self, models=[]):  # default_num_iters=10, verbose_lvl=0):\n",
    "        # initializes model list and dicts\n",
    "        self.models = models\n",
    "        self.best_model = None\n",
    "        self.predictions = None\n",
    "        self.mean_mse = {}\n",
    "        \n",
    "    def add_model(self, model):\n",
    "        self.models.append(model)\n",
    "   \n",
    "    def cross_validate(self, data, k=5):  \n",
    "        # cross validate models using given data\n",
    "        feature_df = data.df_train[data.feature_cols]\n",
    "        target_df = data.df_train[data.target_col]\n",
    "        for model in self.models:\n",
    "            neg_mse = cross_val_score(model, feature_df, target_df, cv=k, scoring='neg_mean_squared_error')\n",
    "            self.mean_mse[model] = -1.0 * np.mean(neg_mse)\n",
    "\n",
    "    def select_best_model(self):\n",
    "        # select model with lowest mse\n",
    "        self.best_model = min(self.mean_mse, key=self.mean_mse.get)\n",
    "        \n",
    "    def best_model_fit(self, features, targets):\n",
    "        # fits best model\n",
    "        self.best_model.fit(features, targets)\n",
    "\n",
    "    def best_model_predict(self, features):\n",
    "        # scores features using best model\n",
    "        self.predictions = self.best_model.predict(features)\n",
    "        \n",
    "    def save_results(self):\n",
    "        # save predictions to .csv file\n",
    "        data.df_results['predictedSalary'] = self.predictions.tolist()\n",
    "        data.df_results[['jobId', 'predictedSalary']].to_csv('data/results_salaries.csv', index = False)\n",
    "        # save best model to pickle file\n",
    "        with open('data/salary_predict_model.pkl', 'wb') as temp:\n",
    "            pickle.dump(models.best_model, temp)\n",
    "            \n",
    "    @staticmethod\n",
    "    def get_feature_importance(model, cols):\n",
    "        # retrieves and sorts feature importances\n",
    "        if hasattr(model, 'feature_importances_'):\n",
    "            importances = model.feature_importances_\n",
    "            feature_importances = pd.DataFrame({'feature': cols, 'importance': importances})\n",
    "            feature_importances.sort_values(by='importance', ascending=False, inplace=True)\n",
    "            # set index to 'feature'\n",
    "            feature_importances.set_index('feature', inplace=True, drop=True)\n",
    "            return feature_importances\n",
    "        else:\n",
    "            # some models don't have feature_importances_\n",
    "            return \"Feature importances do not exist for given model\"\n",
    "\n",
    "    def print_summary(self):\n",
    "        # prints summary of models, best model, and feature importance\n",
    "        print('\\nModel Summaries:\\n')\n",
    "        for model in models.mean_mse:\n",
    "            print('\\n', model, '- MSE:', models.mean_mse[model])\n",
    "        print('\\nBest Model:\\n', models.best_model)\n",
    "        print('\\nMSE of Best Model\\n', models.mean_mse[models.best_model])\n",
    "        print('\\nFeature Importances\\n', models.get_feature_importance(models.best_model, data.feature_cols))                                                                                   \n",
    "        feature_importances = self.get_feature_importance(models.best_model, data.feature_cols)\n",
    "        feature_importances.plot.bar()\n",
    "        plt.show()"
   ]
  },
  {
   "cell_type": "code",
   "execution_count": 843,
   "metadata": {},
   "outputs": [],
   "source": [
    "models = ModelContainer()\n",
    "\n",
    "# create models -hyperparameter tuning already done by hand for each model\n",
    "models.add_model(LinearRegression())\n",
    "models.add_model(RandomForestRegressor(n_estimators=60, max_depth=15, min_samples_split=80,\n",
    "                                           max_features=8, verbose=0))    \n",
    "models.add_model(GradientBoostingRegressor(n_estimators=40, max_depth=7, loss='ls', verbose=0))"
   ]
  },
  {
   "cell_type": "markdown",
   "metadata": {},
   "source": [
    "### ---- 9 Test models ----"
   ]
  },
  {
   "cell_type": "code",
   "execution_count": 844,
   "metadata": {},
   "outputs": [],
   "source": [
    "models.cross_validate(data, k=5)"
   ]
  },
  {
   "cell_type": "markdown",
   "metadata": {},
   "source": [
    "### ---- 10 Select best model  ----"
   ]
  },
  {
   "cell_type": "markdown",
   "metadata": {},
   "source": [
    "Select the model with the lowest error as our \"prodcuction\" model"
   ]
  },
  {
   "cell_type": "code",
   "execution_count": 845,
   "metadata": {},
   "outputs": [],
   "source": [
    "models.select_best_model()\n"
   ]
  },
  {
   "cell_type": "markdown",
   "metadata": {},
   "source": [
    "## Part 4 - DEPLOY"
   ]
  },
  {
   "cell_type": "markdown",
   "metadata": {},
   "source": [
    "### ---- 11 Automate pipeline ----"
   ]
  },
  {
   "cell_type": "code",
   "execution_count": 846,
   "metadata": {},
   "outputs": [],
   "source": [
    "models.best_model_fit(data.df_train[data.feature_cols], data.df_train[data.target_col])"
   ]
  },
  {
   "cell_type": "code",
   "execution_count": 847,
   "metadata": {},
   "outputs": [],
   "source": [
    "models.best_model_predict(data.df_test[data.feature_cols])"
   ]
  },
  {
   "cell_type": "markdown",
   "metadata": {},
   "source": [
    "### ---- 12 Deploy solution ----"
   ]
  },
  {
   "cell_type": "code",
   "execution_count": 858,
   "metadata": {},
   "outputs": [
    {
     "name": "stdout",
     "output_type": "stream",
     "text": [
      "\n",
      "Model Summaries:\n",
      "\n",
      "\n",
      " LinearRegression(copy_X=True, fit_intercept=True, n_jobs=None, normalize=False) - MSE: 370.9568315446754\n",
      "\n",
      " RandomForestRegressor(bootstrap=True, ccp_alpha=0.0, criterion='mse',\n",
      "                      max_depth=15, max_features=8, max_leaf_nodes=None,\n",
      "                      max_samples=None, min_impurity_decrease=0.0,\n",
      "                      min_impurity_split=None, min_samples_leaf=1,\n",
      "                      min_samples_split=80, min_weight_fraction_leaf=0.0,\n",
      "                      n_estimators=60, n_jobs=None, oob_score=False,\n",
      "                      random_state=None, verbose=0, warm_start=False) - MSE: 358.44166754317973\n",
      "\n",
      " GradientBoostingRegressor(alpha=0.9, ccp_alpha=0.0, criterion='friedman_mse',\n",
      "                          init=None, learning_rate=0.1, loss='ls', max_depth=7,\n",
      "                          max_features=None, max_leaf_nodes=None,\n",
      "                          min_impurity_decrease=0.0, min_impurity_split=None,\n",
      "                          min_samples_leaf=1, min_samples_split=2,\n",
      "                          min_weight_fraction_leaf=0.0, n_estimators=40,\n",
      "                          n_iter_no_change=None, presort='deprecated',\n",
      "                          random_state=None, subsample=1.0, tol=0.0001,\n",
      "                          validation_fraction=0.1, verbose=0, warm_start=False) - MSE: 355.06560076493605\n",
      "\n",
      "Best Model:\n",
      " GradientBoostingRegressor(alpha=0.9, ccp_alpha=0.0, criterion='friedman_mse',\n",
      "                          init=None, learning_rate=0.1, loss='ls', max_depth=7,\n",
      "                          max_features=None, max_leaf_nodes=None,\n",
      "                          min_impurity_decrease=0.0, min_impurity_split=None,\n",
      "                          min_samples_leaf=1, min_samples_split=2,\n",
      "                          min_weight_fraction_leaf=0.0, n_estimators=40,\n",
      "                          n_iter_no_change=None, presort='deprecated',\n",
      "                          random_state=None, subsample=1.0, tol=0.0001,\n",
      "                          validation_fraction=0.1, verbose=0, warm_start=False)\n",
      "\n",
      "MSE of Best Model\n",
      " 355.06560076493605\n",
      "\n",
      "Feature Importances\n",
      "                      importance\n",
      "feature                        \n",
      "group_mean             0.658844\n",
      "yearsExperience        0.185714\n",
      "milesFromMetropolis    0.128653\n",
      "group_median           0.020163\n",
      "group_min              0.005172\n",
      "group_std              0.001249\n",
      "group_max              0.000173\n",
      "jobType                0.000013\n",
      "major                  0.000010\n",
      "degree                 0.000005\n",
      "industry               0.000005\n"
     ]
    },
    {
     "data": {
      "image/png": "[encoded data removed]",
      "text/plain": [
       "<Figure size 432x288 with 1 Axes>"
      ]
     },
     "metadata": {
      "needs_background": "light"
     },
     "output_type": "display_data"
    }
   ],
   "source": [
    "models.print_summary()"
   ]
  },
  {
   "cell_type": "markdown",
   "metadata": {},
   "source": [
    "### ---- 13 Measure efficacy ----"
   ]
  },
  {
   "cell_type": "markdown",
   "metadata": {},
   "source": [
    "We'll skip this step since we don't have the outcomes for the test data"
   ]
  },
  {
   "cell_type": "code",
   "execution_count": null,
   "metadata": {},
   "outputs": [],
   "source": []
  }
 ],
 "metadata": {
  "kernelspec": {
   "display_name": "Python 3",
   "language": "python",
   "name": "python3"
  },
  "language_info": {
   "codemirror_mode": {
    "name": "ipython",
    "version": 3
   },
   "file_extension": ".py",
   "mimetype": "text/x-python",
   "name": "python",
   "nbconvert_exporter": "python",
   "pygments_lexer": "ipython3",
   "version": "3.7.7"
  }
 },
 "nbformat": 4,
 "nbformat_minor": 4
}
